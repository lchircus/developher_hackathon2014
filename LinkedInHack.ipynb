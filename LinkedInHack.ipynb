{
 "metadata": {
  "name": "",
  "signature": "sha256:d3e08f2cfa2e561553c9a91c15a410bef853a845905aebe189f8b6245a98599c"
 },
 "nbformat": 3,
 "nbformat_minor": 0,
 "worksheets": [
  {
   "cells": [
    {
     "cell_type": "code",
     "collapsed": false,
     "input": [
      "import requests\n",
      "import string, re\n",
      "import pandas as pd\n",
      "import copy"
     ],
     "language": "python",
     "metadata": {},
     "outputs": [],
     "prompt_number": 155
    },
    {
     "cell_type": "code",
     "collapsed": false,
     "input": [
      "# most of this code is from:\n",
      "# http://nbviewer.ipython.org/github/furukama/Mining-the-Social-Web-2nd-Edition/blob/master/ipynb/Chapter%203%20-%20Mining%20LinkedIn.ipynb\n",
      "\n",
      "from linkedin import linkedin # pip install python-linkedin\n",
      "\n",
      "# Define CONSUMER_KEY, CONSUMER_SECRET,  \n",
      "# USER_TOKEN, and USER_SECRET from the credentials \n",
      "# provided in your LinkedIn application\n",
      "\n",
      "# INSER THE 4 KEYS HERE\n",
      "\n",
      "RETURN_URL = '' # Not required for developer authentication\n",
      "\n",
      "# Instantiate the developer authentication class\n",
      "auth = linkedin.LinkedInDeveloperAuthentication(CONSUMER_KEY, CONSUMER_SECRET, \n",
      "                                USER_TOKEN, USER_SECRET, \n",
      "                                RETURN_URL, \n",
      "                                permissions=linkedin.PERMISSIONS.enums.values())\n",
      "\n",
      "# Pass it in to the app...\n",
      "app = linkedin.LinkedInApplication(auth)\n",
      "\n",
      "# Use the app...\n",
      "app.get_profile()"
     ],
     "language": "python",
     "metadata": {},
     "outputs": [
      {
       "metadata": {},
       "output_type": "pyout",
       "prompt_number": 3,
       "text": [
        "{u'firstName': u'Shannon',\n",
        " u'headline': u'Senior Process Engineer at Intel Corporation',\n",
        " u'lastName': u'Wang',\n",
        " u'siteStandardProfileRequest': {u'url': u'https://www.linkedin.com/profile/view?id=16892750&authType=name&authToken=kI-T&trk=api*a4152241*s4216481*'}}"
       ]
      }
     ],
     "prompt_number": 3
    },
    {
     "cell_type": "code",
     "collapsed": false,
     "input": [
      "import json\n",
      "\n",
      "connections = app.get_connections()\n",
      "\n",
      "connections_data = 'linkedin_connections.json'\n",
      "\n",
      "f = open(connections_data, 'w')\n",
      "f.write(json.dumps(connections, indent=1))\n",
      "f.close()\n",
      "\n",
      "# You can reuse the data without using the API later like this...\n",
      "# connections = json.loads(open(connections_data).read())"
     ],
     "language": "python",
     "metadata": {},
     "outputs": [],
     "prompt_number": 6
    },
    {
     "cell_type": "code",
     "collapsed": false,
     "input": [
      "# Execute this cell if you need to reload data...\n",
      "import json\n",
      "connections = json.loads(open('linkedin_connections.json').read())"
     ],
     "language": "python",
     "metadata": {},
     "outputs": [],
     "prompt_number": 7
    },
    {
     "cell_type": "markdown",
     "metadata": {},
     "source": [
      "an example entry"
     ]
    },
    {
     "cell_type": "code",
     "collapsed": false,
     "input": [
      "connections['values'][0]"
     ],
     "language": "python",
     "metadata": {},
     "outputs": [
      {
       "metadata": {},
       "output_type": "pyout",
       "prompt_number": 100,
       "text": [
        "{u'apiStandardProfileRequest': {u'headers': {u'_total': 1,\n",
        "   u'values': [{u'name': u'x-li-auth-token', u'value': u'name:TyNH'}]},\n",
        "  u'url': u'https://api.linkedin.com/v1/people/RiJf4O45WV'},\n",
        " u'firstName': u'Kristina',\n",
        " u'headline': u'Director, People / HRBP, Advisor',\n",
        " u'id': u'RiJf4O45WV',\n",
        " u'industry': u'Human Resources',\n",
        " u'lastName': u'Hathaway',\n",
        " u'location': {u'country': {u'code': u'us'},\n",
        "  u'name': u'San Francisco Bay Area'},\n",
        " u'pictureUrl': u'https://media.licdn.com/mpr/mprx/0_N0TLAXlN_qMgTRCjNMA9AQtcTcDO3RCjn4vsAbCIY-JfOxvg4JldxF9L7MShCp_Avp_ROhyZWaLY',\n",
        " u'siteStandardProfileRequest': {u'url': u'https://www.linkedin.com/profile/view?id=220390&authType=name&authToken=TyNH&trk=api*a4152241*s4216481*'}}"
       ]
      }
     ],
     "prompt_number": 100
    },
    {
     "cell_type": "markdown",
     "metadata": {},
     "source": [
      "saved this from a previous query, for testing purposes"
     ]
    },
    {
     "cell_type": "code",
     "collapsed": false,
     "input": [
      "conn_data_first_10 = copy.deepcopy(conn_data)"
     ],
     "language": "python",
     "metadata": {},
     "outputs": [],
     "prompt_number": 156
    },
    {
     "cell_type": "markdown",
     "metadata": {},
     "source": [
      "run this cell below to get linkedin data. can take a while."
     ]
    },
    {
     "cell_type": "code",
     "collapsed": false,
     "input": [
      "conn_data = {}\n",
      "connection_id = connections['values'][0]['id']\n",
      "for c in connections['values']:\n",
      "    connection_id = c['id']\n",
      "    firstname = c['firstName']\n",
      "    lastname = c['lastName']\n",
      "    try:\n",
      "        connection_url = app.get_profile(member_id=connection_id, \n",
      "                                   selectors=['public_profile_url'])\n",
      "    except Exception, e:\n",
      "        print len(conn_data), e\n",
      "        continue\n",
      "    url = connection_url['publicProfileUrl']\n",
      "    conn_data[connection_id] = {\n",
      "        'firstname': firstname,\n",
      "        'lastname': lastname,\n",
      "        'publicUrl': url\n",
      "    }\n",
      "    #print firstname, lastname"
     ],
     "language": "python",
     "metadata": {},
     "outputs": [
      {
       "output_type": "stream",
       "stream": "stdout",
       "text": [
        "20 404 Client Error: Not Found: Unknown Error\n",
        "25"
       ]
      },
      {
       "output_type": "stream",
       "stream": "stdout",
       "text": [
        " 404 Client Error: Not Found: Unknown Error\n",
        "27"
       ]
      },
      {
       "output_type": "stream",
       "stream": "stdout",
       "text": [
        " 404 Client Error: Not Found: Unknown Error\n",
        "32"
       ]
      },
      {
       "output_type": "stream",
       "stream": "stdout",
       "text": [
        " 404 Client Error: Not Found: Unknown Error\n",
        "34"
       ]
      },
      {
       "output_type": "stream",
       "stream": "stdout",
       "text": [
        " 404 Client Error: Not Found: Unknown Error\n",
        "79"
       ]
      },
      {
       "output_type": "stream",
       "stream": "stdout",
       "text": [
        " 404 Client Error: Not Found: Unknown Error\n",
        "160"
       ]
      },
      {
       "output_type": "stream",
       "stream": "stdout",
       "text": [
        " 404 Client Error: Not Found: Unknown Error\n",
        "188"
       ]
      },
      {
       "output_type": "stream",
       "stream": "stdout",
       "text": [
        " 404 Client Error: Not Found: Unknown Error\n"
       ]
      }
     ],
     "prompt_number": 161
    },
    {
     "cell_type": "code",
     "collapsed": false,
     "input": [
      "len(conn_data)"
     ],
     "language": "python",
     "metadata": {},
     "outputs": [
      {
       "metadata": {},
       "output_type": "pyout",
       "prompt_number": 162,
       "text": [
        "196"
       ]
      }
     ],
     "prompt_number": 162
    },
    {
     "cell_type": "markdown",
     "metadata": {},
     "source": [
      "Some code snippets to handle one url"
     ]
    },
    {
     "cell_type": "code",
     "collapsed": false,
     "input": [
      "response = requests.get(\"https://www.linkedin.com/in/teppojouttenus\")"
     ],
     "language": "python",
     "metadata": {},
     "outputs": [],
     "prompt_number": 10
    },
    {
     "cell_type": "code",
     "collapsed": false,
     "input": [
      "nStart = string.find(response.text, \"<h3>Experience</h3>\")\n",
      "nEnd = string.find(response.text, \"<h3>Education</h3>\")"
     ],
     "language": "python",
     "metadata": {},
     "outputs": [],
     "prompt_number": 30
    },
    {
     "cell_type": "code",
     "collapsed": false,
     "input": [
      "resp = response.text[nStart:nEnd]"
     ],
     "language": "python",
     "metadata": {},
     "outputs": [],
     "prompt_number": 31
    },
    {
     "cell_type": "code",
     "collapsed": false,
     "input": [
      "matchstring = \"\"\"<h4>(.*?)</h4><h5><a href=\".*?\">(.*?)</a></h5></header><span class=\"experience-date-locale\"><time>(.*?)&#8211;(.*?)\\((.*?)\\).*?<span class=\"locality\">(.*?)</span>\"\"\""
     ],
     "language": "python",
     "metadata": {},
     "outputs": [],
     "prompt_number": 115
    },
    {
     "cell_type": "markdown",
     "metadata": {},
     "source": [
      "Parse all the public url data and create a list of entries. \n",
      "this can take several minutes to run for ~200 contacts."
     ]
    },
    {
     "cell_type": "code",
     "collapsed": false,
     "input": [
      "parseddata = []\n",
      "for urldata in conn_data.values():\n",
      "    url = urldata['publicUrl']\n",
      "    response = requests.get(url)\n",
      "    nStart = string.find(response.text, \"<h3>Experience</h3>\")\n",
      "    nEnd = string.find(response.text, \"<h3>Education</h3>\")\n",
      "    resp = response.text[nStart:nEnd]\n",
      "    if response.status_code == 200:\n",
      "        matches = re.findall(matchstring, resp)\n",
      "        #print len(matches), url\n",
      "        for m in matches:\n",
      "            # clean up\n",
      "            m = list(m)\n",
      "            m[2] = m[2].split('</time>')[0]\n",
      "            m[2] = m[2].strip()\n",
      "            if m[3].find('<time>') != -1:\n",
      "                m[3] = m[3].split('<time>')[1]\n",
      "            if m[3].find('</time>') != -1:\n",
      "                m[3] = m[3].split('</time>')[0]  \n",
      "            m[3] = m[3].strip()\n",
      "            # if any field is too long, then skip\n",
      "            if any([len(field)>200 for field in m]):\n",
      "                continue\n",
      "            parseddata.append(m)"
     ],
     "language": "python",
     "metadata": {},
     "outputs": [],
     "prompt_number": 163
    },
    {
     "cell_type": "code",
     "collapsed": false,
     "input": [
      "len(parseddata)"
     ],
     "language": "python",
     "metadata": {},
     "outputs": [
      {
       "metadata": {},
       "output_type": "pyout",
       "prompt_number": 164,
       "text": [
        "295"
       ]
      }
     ],
     "prompt_number": 164
    },
    {
     "cell_type": "code",
     "collapsed": false,
     "input": [
      "parseddata"
     ],
     "language": "python",
     "metadata": {},
     "outputs": [
      {
       "metadata": {},
       "output_type": "pyout",
       "prompt_number": 150,
       "text": [
        "[[u'Director, People / HRBP',\n",
        "  u'Rocket Fuel Inc.',\n",
        "  u'2013',\n",
        "  u'Present',\n",
        "  u'1 year',\n",
        "  u'Redwood Shores, CA'],\n",
        " [u'Executive Director, Co-Founder, Board of Directors',\n",
        "  u'BioCurious',\n",
        "  u'2009',\n",
        "  u'2014',\n",
        "  u'5 years',\n",
        "  u'Sunnyvale, CA'],\n",
        " [u'Head of People Operations &amp; Talent Acquisition (Consultant)',\n",
        "  u'Singularity University',\n",
        "  u'2012',\n",
        "  u'2013',\n",
        "  u'1 year',\n",
        "  u'Mountain View, NASA/Ames Campus'],\n",
        " [u'Senior Consultant, People Team',\n",
        "  u'Rocket Fuel Inc.',\n",
        "  u'2011',\n",
        "  u'2013',\n",
        "  u'2 years',\n",
        "  u'Redwood Shores, CA'],\n",
        " [u'HR Executive / Principal Consultant',\n",
        "  u'Kristina Hathaway Consulting',\n",
        "  u'2010',\n",
        "  u'2013',\n",
        "  u'3 years',\n",
        "  u'San Francisco Bay Area'],\n",
        " [u'VP, People and Talent (Consultant)',\n",
        "  u'Station X',\n",
        "  u'2010',\n",
        "  u'2013',\n",
        "  u'3 years',\n",
        "  u'Redwood City, CA'],\n",
        " [u'Vice President, Life Sciences',\n",
        "  u'Sage Human Capital',\n",
        "  u'2010',\n",
        "  u'2011',\n",
        "  u'1 year',\n",
        "  u'San Bruno, CA'],\n",
        " [u'Director, Human Resources',\n",
        "  u'UBC Clinical Technologies (now Bracket)',\n",
        "  u'2009',\n",
        "  u'2010',\n",
        "  u'1 year',\n",
        "  u'San Francisco, CA'],\n",
        " [u'Director, Human Resources',\n",
        "  u'Tercica (now Ipsen)',\n",
        "  u'2009',\n",
        "  u'2009',\n",
        "  u'less than a year',\n",
        "  u'Brisbane, CA (Company Headquarters in Paris, France)'],\n",
        " [u'Principal Consultant',\n",
        "  u'Kristina Hathaway Consulting',\n",
        "  u'2008',\n",
        "  u'2009',\n",
        "  u'1 year',\n",
        "  u'Mountain View, CA'],\n",
        " [u'Engineer in Training, EIT',\n",
        "  u'Autopro Automation Consultants Ltd.',\n",
        "  u'September 2011',\n",
        "  u'Present',\n",
        "  u'3 years 3 months',\n",
        "  u'Burnaby, BC'],\n",
        " [u'Chief Technology Officer',\n",
        "  u'Comergent',\n",
        "  u'1998',\n",
        "  u'1999',\n",
        "  u'1 year',\n",
        "  u'Redwood Shores, CA'],\n",
        " [u'Relationship Manager',\n",
        "  u'edX',\n",
        "  u'July 2014',\n",
        "  u'Present',\n",
        "  u'5 months',\n",
        "  u'Cambridge, MA'],\n",
        " [u'Senior Program Manager',\n",
        "  u'edX',\n",
        "  u'May 2012',\n",
        "  u'June 2014',\n",
        "  u'2 years 2 months',\n",
        "  u'Cambridge, MA'],\n",
        " [u'Research Assistant',\n",
        "  u'MIT',\n",
        "  u'September 2007',\n",
        "  u'May 2012',\n",
        "  u'4 years 9 months',\n",
        "  u'Cambridge, MA'],\n",
        " [u'Youth Counselor',\n",
        "  u'The Church of Jesus Christ of Latter-day Saints',\n",
        "  u'2007',\n",
        "  u'2007',\n",
        "  u'less than a year',\n",
        "  u'Finland'],\n",
        " [u'Ph.D. Candidate / Research Assistant',\n",
        "  u'Massachusetts Institute of Technology (MIT)',\n",
        "  u'September 2007',\n",
        "  u'Present',\n",
        "  u'7 years 3 months',\n",
        "  u'Cambridge, MA, USA'],\n",
        " [u'Founder &amp; CEO',\n",
        "  u'LEIA Inc.',\n",
        "  u'January 2014',\n",
        "  u'Present',\n",
        "  u'11 months',\n",
        "  u'Menlo Park, CA'],\n",
        " [u'Head of Business Development and Marketing',\n",
        "  u'ScalingData',\n",
        "  u'2014',\n",
        "  u'Present',\n",
        "  u'less than a year',\n",
        "  u'Silicon Valley'],\n",
        " [u'Engineering Futures Facilitator',\n",
        "  u'Tau Beta Pi',\n",
        "  u'2001',\n",
        "  u'Present',\n",
        "  u'13 years',\n",
        "  u'San Jose, CA'],\n",
        " [u'Director of Business Development / Alliances',\n",
        "  u'Datameer',\n",
        "  u'2011',\n",
        "  u'2012',\n",
        "  u'1 year',\n",
        "  u'San Mateo, CA'],\n",
        " [u'Business Development Partner',\n",
        "  u'Parasians',\n",
        "  u'2009',\n",
        "  u'2012',\n",
        "  u'3 years',\n",
        "  u'Mountain View / NY.P.D. -- NYC, Philadelphia, DC']]"
       ]
      }
     ],
     "prompt_number": 150
    },
    {
     "cell_type": "code",
     "collapsed": false,
     "input": [
      "colnames = ['JobTitle', 'Company', 'StartDate', 'EndDate', 'Duration', 'Location']\n",
      "df = pd.DataFrame.from_records(parseddata, columns=colnames)"
     ],
     "language": "python",
     "metadata": {},
     "outputs": [],
     "prompt_number": 166
    },
    {
     "cell_type": "code",
     "collapsed": false,
     "input": [
      "df.to_csv('data.csv', index=False, encoding='utf-8')"
     ],
     "language": "python",
     "metadata": {},
     "outputs": [],
     "prompt_number": 168
    },
    {
     "cell_type": "code",
     "collapsed": false,
     "input": [],
     "language": "python",
     "metadata": {},
     "outputs": []
    }
   ],
   "metadata": {}
  }
 ]
}