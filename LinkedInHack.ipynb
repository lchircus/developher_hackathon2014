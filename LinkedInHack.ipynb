{
 "metadata": {
  "name": "",
  "signature": "sha256:d003754a371e06b33b31566c6c5dc715db45883e00aeb8991cf697c27d16a2ba"
 },
 "nbformat": 3,
 "nbformat_minor": 0,
 "worksheets": [
  {
   "cells": [
    {
     "cell_type": "code",
     "collapsed": false,
     "input": [
      "%matplotlib inline\n",
      "import requests\n",
      "import string, re\n",
      "import pandas as pd\n",
      "import copy\n",
      "import dateutil, datetime\n",
      "import matplotlib.pyplot as pl\n",
      "import numpy as np"
     ],
     "language": "python",
     "metadata": {},
     "outputs": [],
     "prompt_number": 312
    },
    {
     "cell_type": "code",
     "collapsed": false,
     "input": [
      "# most of this code is from:\n",
      "# http://nbviewer.ipython.org/github/furukama/Mining-the-Social-Web-2nd-Edition/blob/master/ipynb/Chapter%203%20-%20Mining%20LinkedIn.ipynb\n",
      "\n",
      "from linkedin import linkedin # pip install python-linkedin\n",
      "\n",
      "# Define CONSUMER_KEY, CONSUMER_SECRET,  \n",
      "# USER_TOKEN, and USER_SECRET from the credentials \n",
      "# provided in your LinkedIn application\n",
      "\n",
      "\n",
      "RETURN_URL = '' # Not required for developer authentication\n",
      "\n",
      "# Instantiate the developer authentication class\n",
      "auth = linkedin.LinkedInDeveloperAuthentication(CONSUMER_KEY, CONSUMER_SECRET, \n",
      "                                USER_TOKEN, USER_SECRET, \n",
      "                                RETURN_URL, \n",
      "                                permissions=linkedin.PERMISSIONS.enums.values())\n",
      "\n",
      "# Pass it in to the app...\n",
      "app = linkedin.LinkedInApplication(auth)\n",
      "\n",
      "# Use the app...\n",
      "app.get_profile()"
     ],
     "language": "python",
     "metadata": {},
     "outputs": [
      {
       "metadata": {},
       "output_type": "pyout",
       "prompt_number": 400,
       "text": [
        "{u'firstName': u'Lauren',\n",
        " u'headline': u'Ph.D. Candidate in Chemical and Systems Biology at Stanford University School of Medicine',\n",
        " u'lastName': u'Chircus',\n",
        " u'siteStandardProfileRequest': {u'url': u'https://www.linkedin.com/profile/view?id=32787140&authType=name&authToken=aJLF&trk=api*a4161971*s4226131*'}}"
       ]
      }
     ],
     "prompt_number": 400
    },
    {
     "cell_type": "code",
     "collapsed": false,
     "input": [
      "import json\n",
      "\n",
      "connections = app.get_connections()\n",
      "\n",
      "#connections_data = 'linkedin_connections.json'\n",
      "\n",
      "#f = open(connections_data, 'w')\n",
      "#f.write(json.dumps(connections, indent=1))\n",
      "#f.close()\n",
      "\n",
      "# You can reuse the data without using the API later like this...\n",
      "# connections = json.loads(open(connections_data).read())"
     ],
     "language": "python",
     "metadata": {},
     "outputs": [],
     "prompt_number": 401
    },
    {
     "cell_type": "code",
     "collapsed": false,
     "input": [
      "# Execute this cell if you need to reload data...\n",
      "import json\n",
      "connections = json.loads(open('linkedin_connections.json').read())"
     ],
     "language": "python",
     "metadata": {},
     "outputs": [],
     "prompt_number": 7
    },
    {
     "cell_type": "markdown",
     "metadata": {},
     "source": [
      "an example entry"
     ]
    },
    {
     "cell_type": "code",
     "collapsed": false,
     "input": [
      "connections['values'][0]"
     ],
     "language": "python",
     "metadata": {},
     "outputs": [
      {
       "metadata": {},
       "output_type": "pyout",
       "prompt_number": 402,
       "text": [
        "{u'apiStandardProfileRequest': {u'headers': {u'_total': 1,\n",
        "   u'values': [{u'name': u'x-li-auth-token', u'value': u'name:JYl7'}]},\n",
        "  u'url': u'https://api.linkedin.com/v1/people/FQUD0pygaW'},\n",
        " u'firstName': u'Ian',\n",
        " u'headline': u'Editor, MetaboNews',\n",
        " u'id': u'FQUD0pygaW',\n",
        " u'industry': u'Biotechnology',\n",
        " u'lastName': u'Forsythe',\n",
        " u'location': {u'country': {u'code': u'ca'},\n",
        "  u'name': u'Edmonton, Canada Area'},\n",
        " u'pictureUrl': u'https://media.licdn.com/mpr/mprx/0_ndxXK8y9Fte-FIK-q2YUKGmQFBpKbm8-qawUKiY64AH8ZoBtVf7HO_oHdsy7XWTOBogVxkuMeVod',\n",
        " u'siteStandardProfileRequest': {u'url': u'https://www.linkedin.com/profile/view?id=6734148&authType=name&authToken=JYl7&trk=api*a4161971*s4226131*'}}"
       ]
      }
     ],
     "prompt_number": 402
    },
    {
     "cell_type": "markdown",
     "metadata": {},
     "source": [
      "saved this from a previous query, for testing purposes"
     ]
    },
    {
     "cell_type": "code",
     "collapsed": false,
     "input": [
      "conn_data_first_10 = copy.deepcopy(conn_data)"
     ],
     "language": "python",
     "metadata": {},
     "outputs": [],
     "prompt_number": 156
    },
    {
     "cell_type": "markdown",
     "metadata": {},
     "source": [
      "run this cell below to get linkedin data. can take a while."
     ]
    },
    {
     "cell_type": "code",
     "collapsed": true,
     "input": [
      "connection_id = connections['values'][0]['id']\n",
      "connection_url = app.get_profile(member_id=connection_id, \n",
      "                                   selectors=['public_profile_url'])"
     ],
     "language": "python",
     "metadata": {},
     "outputs": [],
     "prompt_number": 404
    },
    {
     "cell_type": "code",
     "collapsed": false,
     "input": [
      "conn_data = {}\n",
      "connection_id = connections['values'][0]['id']\n",
      "for c in connections['values']:\n",
      "    connection_id = c['id']\n",
      "    firstname = c['firstName']\n",
      "    lastname = c['lastName']\n",
      "    try:\n",
      "        connection_url = app.get_profile(member_id=connection_id, \n",
      "                                   selectors=['public_profile_url'])\n",
      "    except Exception, e:\n",
      "        print len(conn_data), e\n",
      "        continue\n",
      "    url = connection_url['publicProfileUrl']\n",
      "    conn_data[connection_id] = {\n",
      "        'firstname': firstname,\n",
      "        'lastname': lastname,\n",
      "        'publicUrl': url\n",
      "    }\n",
      "    #print firstname, lastname"
     ],
     "language": "python",
     "metadata": {},
     "outputs": [
      {
       "output_type": "stream",
       "stream": "stdout",
       "text": [
        "5 404 Client Error: Not Found: Unknown Error\n",
        "22"
       ]
      },
      {
       "output_type": "stream",
       "stream": "stdout",
       "text": [
        " 404 Client Error: Not Found: Unknown Error\n",
        "54"
       ]
      },
      {
       "output_type": "stream",
       "stream": "stdout",
       "text": [
        " 404 Client Error: Not Found: Unknown Error\n",
        "67"
       ]
      },
      {
       "output_type": "stream",
       "stream": "stdout",
       "text": [
        " 404 Client Error: Not Found: Unknown Error\n",
        "74"
       ]
      },
      {
       "output_type": "stream",
       "stream": "stdout",
       "text": [
        " 403 Client Error: Forbidden: Unknown Error\n",
        "75"
       ]
      },
      {
       "output_type": "stream",
       "stream": "stdout",
       "text": [
        " 403 Client Error: Forbidden: Unknown Error\n",
        "75"
       ]
      },
      {
       "output_type": "stream",
       "stream": "stdout",
       "text": [
        " 403 Client Error: Forbidden: Unknown Error\n",
        "75"
       ]
      },
      {
       "output_type": "stream",
       "stream": "stdout",
       "text": [
        " 403 Client Error: Forbidden: Unknown Error\n",
        "75"
       ]
      },
      {
       "output_type": "stream",
       "stream": "stdout",
       "text": [
        " 403 Client Error: Forbidden: Unknown Error\n",
        "75"
       ]
      },
      {
       "output_type": "stream",
       "stream": "stdout",
       "text": [
        " 403 Client Error: Forbidden: Unknown Error\n",
        "75"
       ]
      },
      {
       "output_type": "stream",
       "stream": "stdout",
       "text": [
        " 403 Client Error: Forbidden: Unknown Error\n",
        "75"
       ]
      },
      {
       "output_type": "stream",
       "stream": "stdout",
       "text": [
        " 403 Client Error: Forbidden: Unknown Error\n",
        "75"
       ]
      },
      {
       "output_type": "stream",
       "stream": "stdout",
       "text": [
        " 403 Client Error: Forbidden: Unknown Error\n",
        "75"
       ]
      },
      {
       "output_type": "stream",
       "stream": "stdout",
       "text": [
        " 403 Client Error: Forbidden: Unknown Error\n",
        "75"
       ]
      },
      {
       "output_type": "stream",
       "stream": "stdout",
       "text": [
        " 403 Client Error: Forbidden: Unknown Error\n",
        "75"
       ]
      },
      {
       "output_type": "stream",
       "stream": "stdout",
       "text": [
        " 403 Client Error: Forbidden: Unknown Error\n",
        "75"
       ]
      },
      {
       "output_type": "stream",
       "stream": "stdout",
       "text": [
        " 403 Client Error: Forbidden: Unknown Error\n",
        "75"
       ]
      },
      {
       "output_type": "stream",
       "stream": "stdout",
       "text": [
        " 403 Client Error: Forbidden: Unknown Error\n",
        "76"
       ]
      },
      {
       "output_type": "stream",
       "stream": "stdout",
       "text": [
        " 403 Client Error: Forbidden: Unknown Error\n",
        "76"
       ]
      },
      {
       "output_type": "stream",
       "stream": "stdout",
       "text": [
        " 403 Client Error: Forbidden: Unknown Error\n",
        "76"
       ]
      },
      {
       "output_type": "stream",
       "stream": "stdout",
       "text": [
        " 403 Client Error: Forbidden: Unknown Error\n",
        "76"
       ]
      },
      {
       "output_type": "stream",
       "stream": "stdout",
       "text": [
        " 403 Client Error: Forbidden: Unknown Error\n",
        "76"
       ]
      },
      {
       "output_type": "stream",
       "stream": "stdout",
       "text": [
        " 403 Client Error: Forbidden: Unknown Error\n",
        "76"
       ]
      },
      {
       "output_type": "stream",
       "stream": "stdout",
       "text": [
        " 403 Client Error: Forbidden: Unknown Error\n",
        "76"
       ]
      },
      {
       "output_type": "stream",
       "stream": "stdout",
       "text": [
        " 403 Client Error: Forbidden: Unknown Error\n",
        "76"
       ]
      },
      {
       "output_type": "stream",
       "stream": "stdout",
       "text": [
        " 403 Client Error: Forbidden: Unknown Error\n",
        "76"
       ]
      },
      {
       "output_type": "stream",
       "stream": "stdout",
       "text": [
        " 403 Client Error: Forbidden: Unknown Error\n",
        "76"
       ]
      },
      {
       "output_type": "stream",
       "stream": "stdout",
       "text": [
        " 403 Client Error: Forbidden: Unknown Error\n",
        "76"
       ]
      },
      {
       "output_type": "stream",
       "stream": "stdout",
       "text": [
        " 403 Client Error: Forbidden: Unknown Error\n",
        "76"
       ]
      },
      {
       "output_type": "stream",
       "stream": "stdout",
       "text": [
        " 403 Client Error: Forbidden: Unknown Error\n",
        "76"
       ]
      },
      {
       "output_type": "stream",
       "stream": "stdout",
       "text": [
        " 403 Client Error: Forbidden: Unknown Error\n",
        "76"
       ]
      },
      {
       "output_type": "stream",
       "stream": "stdout",
       "text": [
        " 403 Client Error: Forbidden: Unknown Error\n",
        "76"
       ]
      },
      {
       "output_type": "stream",
       "stream": "stdout",
       "text": [
        " 403 Client Error: Forbidden: Unknown Error\n",
        "76"
       ]
      },
      {
       "output_type": "stream",
       "stream": "stdout",
       "text": [
        " 403 Client Error: Forbidden: Unknown Error\n",
        "76"
       ]
      },
      {
       "output_type": "stream",
       "stream": "stdout",
       "text": [
        " 403 Client Error: Forbidden: Unknown Error\n",
        "76"
       ]
      },
      {
       "output_type": "stream",
       "stream": "stdout",
       "text": [
        " 403 Client Error: Forbidden: Unknown Error\n",
        "76"
       ]
      },
      {
       "output_type": "stream",
       "stream": "stdout",
       "text": [
        " 403 Client Error: Forbidden: Unknown Error\n",
        "76"
       ]
      },
      {
       "output_type": "stream",
       "stream": "stdout",
       "text": [
        " 403 Client Error: Forbidden: Unknown Error\n",
        "76"
       ]
      },
      {
       "output_type": "stream",
       "stream": "stdout",
       "text": [
        " 403 Client Error: Forbidden: Unknown Error\n",
        "76"
       ]
      },
      {
       "output_type": "stream",
       "stream": "stdout",
       "text": [
        " 403 Client Error: Forbidden: Unknown Error\n",
        "76"
       ]
      },
      {
       "output_type": "stream",
       "stream": "stdout",
       "text": [
        " 403 Client Error: Forbidden: Unknown Error\n",
        "76"
       ]
      },
      {
       "output_type": "stream",
       "stream": "stdout",
       "text": [
        " 403 Client Error: Forbidden: Unknown Error\n",
        "76"
       ]
      },
      {
       "output_type": "stream",
       "stream": "stdout",
       "text": [
        " 403 Client Error: Forbidden: Unknown Error\n",
        "76"
       ]
      },
      {
       "output_type": "stream",
       "stream": "stdout",
       "text": [
        " 403 Client Error: Forbidden: Unknown Error\n",
        "76"
       ]
      },
      {
       "output_type": "stream",
       "stream": "stdout",
       "text": [
        " 403 Client Error: Forbidden: Unknown Error\n",
        "76"
       ]
      },
      {
       "output_type": "stream",
       "stream": "stdout",
       "text": [
        " 403 Client Error: Forbidden: Unknown Error\n",
        "76"
       ]
      },
      {
       "output_type": "stream",
       "stream": "stdout",
       "text": [
        " 403 Client Error: Forbidden: Unknown Error\n",
        "76"
       ]
      },
      {
       "output_type": "stream",
       "stream": "stdout",
       "text": [
        " 403 Client Error: Forbidden: Unknown Error\n",
        "76"
       ]
      },
      {
       "output_type": "stream",
       "stream": "stdout",
       "text": [
        " 403 Client Error: Forbidden: Unknown Error\n",
        "76"
       ]
      },
      {
       "output_type": "stream",
       "stream": "stdout",
       "text": [
        " 403 Client Error: Forbidden: Unknown Error\n",
        "76"
       ]
      },
      {
       "output_type": "stream",
       "stream": "stdout",
       "text": [
        " 403 Client Error: Forbidden: Unknown Error\n",
        "76"
       ]
      },
      {
       "output_type": "stream",
       "stream": "stdout",
       "text": [
        " 403 Client Error: Forbidden: Unknown Error\n",
        "76"
       ]
      },
      {
       "output_type": "stream",
       "stream": "stdout",
       "text": [
        " 403 Client Error: Forbidden: Unknown Error\n",
        "76"
       ]
      },
      {
       "output_type": "stream",
       "stream": "stdout",
       "text": [
        " 403 Client Error: Forbidden: Unknown Error\n",
        "76"
       ]
      },
      {
       "output_type": "stream",
       "stream": "stdout",
       "text": [
        " 403 Client Error: Forbidden: Unknown Error\n",
        "76"
       ]
      },
      {
       "output_type": "stream",
       "stream": "stdout",
       "text": [
        " 403 Client Error: Forbidden: Unknown Error\n",
        "76"
       ]
      },
      {
       "output_type": "stream",
       "stream": "stdout",
       "text": [
        " 403 Client Error: Forbidden: Unknown Error\n",
        "76"
       ]
      },
      {
       "output_type": "stream",
       "stream": "stdout",
       "text": [
        " 403 Client Error: Forbidden: Unknown Error\n",
        "76"
       ]
      },
      {
       "output_type": "stream",
       "stream": "stdout",
       "text": [
        " 403 Client Error: Forbidden: Unknown Error\n",
        "76"
       ]
      },
      {
       "output_type": "stream",
       "stream": "stdout",
       "text": [
        " 403 Client Error: Forbidden: Unknown Error\n",
        "76"
       ]
      },
      {
       "output_type": "stream",
       "stream": "stdout",
       "text": [
        " 403 Client Error: Forbidden: Unknown Error\n",
        "76"
       ]
      },
      {
       "output_type": "stream",
       "stream": "stdout",
       "text": [
        " 403 Client Error: Forbidden: Unknown Error\n",
        "76"
       ]
      },
      {
       "output_type": "stream",
       "stream": "stdout",
       "text": [
        " 403 Client Error: Forbidden: Unknown Error\n",
        "76"
       ]
      },
      {
       "output_type": "stream",
       "stream": "stdout",
       "text": [
        " 403 Client Error: Forbidden: Unknown Error\n",
        "76"
       ]
      },
      {
       "output_type": "stream",
       "stream": "stdout",
       "text": [
        " 403 Client Error: Forbidden: Unknown Error\n",
        "76"
       ]
      },
      {
       "output_type": "stream",
       "stream": "stdout",
       "text": [
        " 403 Client Error: Forbidden: Unknown Error\n",
        "76"
       ]
      },
      {
       "output_type": "stream",
       "stream": "stdout",
       "text": [
        " 403 Client Error: Forbidden: Unknown Error\n",
        "76"
       ]
      },
      {
       "output_type": "stream",
       "stream": "stdout",
       "text": [
        " 403 Client Error: Forbidden: Unknown Error\n",
        "76"
       ]
      },
      {
       "output_type": "stream",
       "stream": "stdout",
       "text": [
        " 403 Client Error: Forbidden: Unknown Error\n",
        "76"
       ]
      },
      {
       "output_type": "stream",
       "stream": "stdout",
       "text": [
        " 403 Client Error: Forbidden: Unknown Error\n",
        "76"
       ]
      },
      {
       "output_type": "stream",
       "stream": "stdout",
       "text": [
        " 403 Client Error: Forbidden: Unknown Error\n",
        "76"
       ]
      },
      {
       "output_type": "stream",
       "stream": "stdout",
       "text": [
        " 403 Client Error: Forbidden: Unknown Error\n",
        "76"
       ]
      },
      {
       "output_type": "stream",
       "stream": "stdout",
       "text": [
        " 403 Client Error: Forbidden: Unknown Error\n",
        "76"
       ]
      },
      {
       "output_type": "stream",
       "stream": "stdout",
       "text": [
        " 403 Client Error: Forbidden: Unknown Error\n",
        "76"
       ]
      },
      {
       "output_type": "stream",
       "stream": "stdout",
       "text": [
        " 403 Client Error: Forbidden: Unknown Error\n",
        "76"
       ]
      },
      {
       "output_type": "stream",
       "stream": "stdout",
       "text": [
        " 403 Client Error: Forbidden: Unknown Error\n",
        "76"
       ]
      },
      {
       "output_type": "stream",
       "stream": "stdout",
       "text": [
        " 403 Client Error: Forbidden: Unknown Error\n",
        "76"
       ]
      },
      {
       "output_type": "stream",
       "stream": "stdout",
       "text": [
        " 403 Client Error: Forbidden: Unknown Error\n",
        "76"
       ]
      },
      {
       "output_type": "stream",
       "stream": "stdout",
       "text": [
        " 403 Client Error: Forbidden: Unknown Error\n",
        "76"
       ]
      },
      {
       "output_type": "stream",
       "stream": "stdout",
       "text": [
        " 403 Client Error: Forbidden: Unknown Error\n",
        "76"
       ]
      },
      {
       "output_type": "stream",
       "stream": "stdout",
       "text": [
        " 403 Client Error: Forbidden: Unknown Error\n",
        "76"
       ]
      },
      {
       "output_type": "stream",
       "stream": "stdout",
       "text": [
        " 403 Client Error: Forbidden: Unknown Error\n",
        "76"
       ]
      },
      {
       "output_type": "stream",
       "stream": "stdout",
       "text": [
        " 403 Client Error: Forbidden: Unknown Error\n",
        "76"
       ]
      },
      {
       "output_type": "stream",
       "stream": "stdout",
       "text": [
        " 403 Client Error: Forbidden: Unknown Error\n",
        "76"
       ]
      },
      {
       "output_type": "stream",
       "stream": "stdout",
       "text": [
        " 403 Client Error: Forbidden: Unknown Error\n",
        "76"
       ]
      },
      {
       "output_type": "stream",
       "stream": "stdout",
       "text": [
        " 403 Client Error: Forbidden: Unknown Error\n",
        "76"
       ]
      },
      {
       "output_type": "stream",
       "stream": "stdout",
       "text": [
        " 403 Client Error: Forbidden: Unknown Error\n",
        "76"
       ]
      },
      {
       "output_type": "stream",
       "stream": "stdout",
       "text": [
        " 403 Client Error: Forbidden: Unknown Error\n",
        "76"
       ]
      },
      {
       "output_type": "stream",
       "stream": "stdout",
       "text": [
        " 403 Client Error: Forbidden: Unknown Error\n",
        "76"
       ]
      },
      {
       "output_type": "stream",
       "stream": "stdout",
       "text": [
        " 403 Client Error: Forbidden: Unknown Error\n",
        "76"
       ]
      },
      {
       "output_type": "stream",
       "stream": "stdout",
       "text": [
        " 403 Client Error: Forbidden: Unknown Error\n",
        "76"
       ]
      },
      {
       "output_type": "stream",
       "stream": "stdout",
       "text": [
        " 403 Client Error: Forbidden: Unknown Error\n",
        "76"
       ]
      },
      {
       "output_type": "stream",
       "stream": "stdout",
       "text": [
        " 403 Client Error: Forbidden: Unknown Error\n",
        "76"
       ]
      },
      {
       "output_type": "stream",
       "stream": "stdout",
       "text": [
        " 403 Client Error: Forbidden: Unknown Error\n",
        "76"
       ]
      },
      {
       "output_type": "stream",
       "stream": "stdout",
       "text": [
        " 403 Client Error: Forbidden: Unknown Error\n",
        "76"
       ]
      },
      {
       "output_type": "stream",
       "stream": "stdout",
       "text": [
        " 403 Client Error: Forbidden: Unknown Error\n",
        "76"
       ]
      },
      {
       "output_type": "stream",
       "stream": "stdout",
       "text": [
        " 403 Client Error: Forbidden: Unknown Error\n",
        "76"
       ]
      },
      {
       "output_type": "stream",
       "stream": "stdout",
       "text": [
        " 403 Client Error: Forbidden: Unknown Error\n",
        "76"
       ]
      },
      {
       "output_type": "stream",
       "stream": "stdout",
       "text": [
        " 403 Client Error: Forbidden: Unknown Error\n",
        "76"
       ]
      },
      {
       "output_type": "stream",
       "stream": "stdout",
       "text": [
        " 403 Client Error: Forbidden: Unknown Error\n",
        "76"
       ]
      },
      {
       "output_type": "stream",
       "stream": "stdout",
       "text": [
        " 403 Client Error: Forbidden: Unknown Error\n",
        "76"
       ]
      },
      {
       "output_type": "stream",
       "stream": "stdout",
       "text": [
        " 403 Client Error: Forbidden: Unknown Error\n",
        "76"
       ]
      },
      {
       "output_type": "stream",
       "stream": "stdout",
       "text": [
        " 403 Client Error: Forbidden: Unknown Error\n",
        "76"
       ]
      },
      {
       "output_type": "stream",
       "stream": "stdout",
       "text": [
        " 403 Client Error: Forbidden: Unknown Error\n",
        "76"
       ]
      },
      {
       "output_type": "stream",
       "stream": "stdout",
       "text": [
        " 403 Client Error: Forbidden: Unknown Error\n",
        "76"
       ]
      },
      {
       "output_type": "stream",
       "stream": "stdout",
       "text": [
        " 403 Client Error: Forbidden: Unknown Error\n",
        "76"
       ]
      },
      {
       "output_type": "stream",
       "stream": "stdout",
       "text": [
        " 403 Client Error: Forbidden: Unknown Error\n",
        "76"
       ]
      },
      {
       "output_type": "stream",
       "stream": "stdout",
       "text": [
        " 403 Client Error: Forbidden: Unknown Error\n",
        "76"
       ]
      },
      {
       "output_type": "stream",
       "stream": "stdout",
       "text": [
        " 403 Client Error: Forbidden: Unknown Error\n",
        "76"
       ]
      },
      {
       "output_type": "stream",
       "stream": "stdout",
       "text": [
        " 403 Client Error: Forbidden: Unknown Error\n",
        "76"
       ]
      },
      {
       "output_type": "stream",
       "stream": "stdout",
       "text": [
        " 403 Client Error: Forbidden: Unknown Error\n",
        "76"
       ]
      },
      {
       "output_type": "stream",
       "stream": "stdout",
       "text": [
        " 403 Client Error: Forbidden: Unknown Error\n",
        "76"
       ]
      },
      {
       "output_type": "stream",
       "stream": "stdout",
       "text": [
        " 403 Client Error: Forbidden: Unknown Error\n",
        "76"
       ]
      },
      {
       "output_type": "stream",
       "stream": "stdout",
       "text": [
        " 403 Client Error: Forbidden: Unknown Error\n",
        "76"
       ]
      },
      {
       "output_type": "stream",
       "stream": "stdout",
       "text": [
        " 403 Client Error: Forbidden: Unknown Error\n",
        "76"
       ]
      },
      {
       "output_type": "stream",
       "stream": "stdout",
       "text": [
        " 403 Client Error: Forbidden: Unknown Error\n",
        "76"
       ]
      },
      {
       "output_type": "stream",
       "stream": "stdout",
       "text": [
        " 403 Client Error: Forbidden: Unknown Error\n",
        "76"
       ]
      },
      {
       "output_type": "stream",
       "stream": "stdout",
       "text": [
        " 403 Client Error: Forbidden: Unknown Error\n",
        "76"
       ]
      },
      {
       "output_type": "stream",
       "stream": "stdout",
       "text": [
        " 403 Client Error: Forbidden: Unknown Error\n",
        "76"
       ]
      },
      {
       "output_type": "stream",
       "stream": "stdout",
       "text": [
        " 403 Client Error: Forbidden: Unknown Error\n",
        "76"
       ]
      },
      {
       "output_type": "stream",
       "stream": "stdout",
       "text": [
        " 403 Client Error: Forbidden: Unknown Error\n",
        "76"
       ]
      },
      {
       "output_type": "stream",
       "stream": "stdout",
       "text": [
        " 403 Client Error: Forbidden: Unknown Error\n",
        "76"
       ]
      },
      {
       "output_type": "stream",
       "stream": "stdout",
       "text": [
        " 403 Client Error: Forbidden: Unknown Error\n",
        "76"
       ]
      },
      {
       "output_type": "stream",
       "stream": "stdout",
       "text": [
        " 403 Client Error: Forbidden: Unknown Error\n",
        "76"
       ]
      },
      {
       "output_type": "stream",
       "stream": "stdout",
       "text": [
        " 403 Client Error: Forbidden: Unknown Error\n",
        "76"
       ]
      },
      {
       "output_type": "stream",
       "stream": "stdout",
       "text": [
        " 403 Client Error: Forbidden: Unknown Error\n",
        "76"
       ]
      },
      {
       "output_type": "stream",
       "stream": "stdout",
       "text": [
        " 403 Client Error: Forbidden: Unknown Error\n",
        "76"
       ]
      },
      {
       "output_type": "stream",
       "stream": "stdout",
       "text": [
        " 403 Client Error: Forbidden: Unknown Error\n",
        "76"
       ]
      },
      {
       "output_type": "stream",
       "stream": "stdout",
       "text": [
        " 403 Client Error: Forbidden: Unknown Error\n",
        "76"
       ]
      },
      {
       "output_type": "stream",
       "stream": "stdout",
       "text": [
        " 403 Client Error: Forbidden: Unknown Error\n",
        "76"
       ]
      },
      {
       "output_type": "stream",
       "stream": "stdout",
       "text": [
        " 403 Client Error: Forbidden: Unknown Error\n",
        "76"
       ]
      },
      {
       "output_type": "stream",
       "stream": "stdout",
       "text": [
        " 403 Client Error: Forbidden: Unknown Error\n",
        "76"
       ]
      },
      {
       "output_type": "stream",
       "stream": "stdout",
       "text": [
        " 403 Client Error: Forbidden: Unknown Error\n",
        "76"
       ]
      },
      {
       "output_type": "stream",
       "stream": "stdout",
       "text": [
        " 403 Client Error: Forbidden: Unknown Error\n",
        "76"
       ]
      },
      {
       "output_type": "stream",
       "stream": "stdout",
       "text": [
        " 403 Client Error: Forbidden: Unknown Error\n",
        "76"
       ]
      },
      {
       "output_type": "stream",
       "stream": "stdout",
       "text": [
        " 403 Client Error: Forbidden: Unknown Error\n",
        "76"
       ]
      },
      {
       "output_type": "stream",
       "stream": "stdout",
       "text": [
        " 403 Client Error: Forbidden: Unknown Error\n",
        "76"
       ]
      },
      {
       "output_type": "stream",
       "stream": "stdout",
       "text": [
        " 403 Client Error: Forbidden: Unknown Error\n",
        "76"
       ]
      },
      {
       "output_type": "stream",
       "stream": "stdout",
       "text": [
        " 403 Client Error: Forbidden: Unknown Error\n",
        "76"
       ]
      },
      {
       "output_type": "stream",
       "stream": "stdout",
       "text": [
        " 403 Client Error: Forbidden: Unknown Error\n",
        "76"
       ]
      },
      {
       "output_type": "stream",
       "stream": "stdout",
       "text": [
        " 403 Client Error: Forbidden: Unknown Error\n",
        "76"
       ]
      },
      {
       "output_type": "stream",
       "stream": "stdout",
       "text": [
        " 403 Client Error: Forbidden: Unknown Error\n",
        "76"
       ]
      },
      {
       "output_type": "stream",
       "stream": "stdout",
       "text": [
        " 403 Client Error: Forbidden: Unknown Error\n",
        "76"
       ]
      },
      {
       "output_type": "stream",
       "stream": "stdout",
       "text": [
        " 403 Client Error: Forbidden: Unknown Error\n",
        "76"
       ]
      },
      {
       "output_type": "stream",
       "stream": "stdout",
       "text": [
        " 403 Client Error: Forbidden: Unknown Error\n",
        "76"
       ]
      },
      {
       "output_type": "stream",
       "stream": "stdout",
       "text": [
        " 403 Client Error: Forbidden: Unknown Error\n",
        "76"
       ]
      },
      {
       "output_type": "stream",
       "stream": "stdout",
       "text": [
        " 403 Client Error: Forbidden: Unknown Error\n",
        "76"
       ]
      },
      {
       "output_type": "stream",
       "stream": "stdout",
       "text": [
        " 403 Client Error: Forbidden: Unknown Error\n",
        "76"
       ]
      },
      {
       "output_type": "stream",
       "stream": "stdout",
       "text": [
        " 403 Client Error: Forbidden: Unknown Error\n",
        "76"
       ]
      },
      {
       "output_type": "stream",
       "stream": "stdout",
       "text": [
        " 403 Client Error: Forbidden: Unknown Error\n",
        "76"
       ]
      },
      {
       "output_type": "stream",
       "stream": "stdout",
       "text": [
        " 403 Client Error: Forbidden: Unknown Error\n",
        "76"
       ]
      },
      {
       "output_type": "stream",
       "stream": "stdout",
       "text": [
        " 403 Client Error: Forbidden: Unknown Error\n",
        "76"
       ]
      },
      {
       "output_type": "stream",
       "stream": "stdout",
       "text": [
        " 403 Client Error: Forbidden: Unknown Error\n",
        "76"
       ]
      },
      {
       "output_type": "stream",
       "stream": "stdout",
       "text": [
        " 403 Client Error: Forbidden: Unknown Error\n",
        "76"
       ]
      },
      {
       "output_type": "stream",
       "stream": "stdout",
       "text": [
        " 403 Client Error: Forbidden: Unknown Error\n",
        "76"
       ]
      },
      {
       "output_type": "stream",
       "stream": "stdout",
       "text": [
        " 403 Client Error: Forbidden: Unknown Error\n",
        "76"
       ]
      },
      {
       "output_type": "stream",
       "stream": "stdout",
       "text": [
        " 403 Client Error: Forbidden: Unknown Error\n",
        "76"
       ]
      },
      {
       "output_type": "stream",
       "stream": "stdout",
       "text": [
        " 403 Client Error: Forbidden: Unknown Error\n",
        "76"
       ]
      },
      {
       "output_type": "stream",
       "stream": "stdout",
       "text": [
        " 403 Client Error: Forbidden: Unknown Error\n",
        "76"
       ]
      },
      {
       "output_type": "stream",
       "stream": "stdout",
       "text": [
        " 403 Client Error: Forbidden: Unknown Error\n",
        "76"
       ]
      },
      {
       "output_type": "stream",
       "stream": "stdout",
       "text": [
        " 403 Client Error: Forbidden: Unknown Error\n",
        "76"
       ]
      },
      {
       "output_type": "stream",
       "stream": "stdout",
       "text": [
        " 403 Client Error: Forbidden: Unknown Error\n",
        "76"
       ]
      },
      {
       "output_type": "stream",
       "stream": "stdout",
       "text": [
        " 403 Client Error: Forbidden: Unknown Error\n",
        "76"
       ]
      },
      {
       "output_type": "stream",
       "stream": "stdout",
       "text": [
        " 403 Client Error: Forbidden: Unknown Error\n",
        "76"
       ]
      },
      {
       "output_type": "stream",
       "stream": "stdout",
       "text": [
        " 403 Client Error: Forbidden: Unknown Error\n",
        "76"
       ]
      },
      {
       "output_type": "stream",
       "stream": "stdout",
       "text": [
        " 403 Client Error: Forbidden: Unknown Error\n",
        "76"
       ]
      },
      {
       "output_type": "stream",
       "stream": "stdout",
       "text": [
        " 403 Client Error: Forbidden: Unknown Error\n",
        "76"
       ]
      },
      {
       "output_type": "stream",
       "stream": "stdout",
       "text": [
        " 403 Client Error: Forbidden: Unknown Error\n",
        "76"
       ]
      },
      {
       "output_type": "stream",
       "stream": "stdout",
       "text": [
        " 403 Client Error: Forbidden: Unknown Error\n",
        "76"
       ]
      },
      {
       "output_type": "stream",
       "stream": "stdout",
       "text": [
        " 403 Client Error: Forbidden: Unknown Error\n",
        "76"
       ]
      },
      {
       "output_type": "stream",
       "stream": "stdout",
       "text": [
        " 403 Client Error: Forbidden: Unknown Error\n",
        "76"
       ]
      },
      {
       "output_type": "stream",
       "stream": "stdout",
       "text": [
        " 403 Client Error: Forbidden: Unknown Error\n",
        "76"
       ]
      },
      {
       "output_type": "stream",
       "stream": "stdout",
       "text": [
        " 403 Client Error: Forbidden: Unknown Error\n",
        "76"
       ]
      },
      {
       "output_type": "stream",
       "stream": "stdout",
       "text": [
        " 403 Client Error: Forbidden: Unknown Error\n",
        "76"
       ]
      },
      {
       "output_type": "stream",
       "stream": "stdout",
       "text": [
        " 403 Client Error: Forbidden: Unknown Error\n",
        "76"
       ]
      },
      {
       "output_type": "stream",
       "stream": "stdout",
       "text": [
        " 403 Client Error: Forbidden: Unknown Error\n",
        "76"
       ]
      },
      {
       "output_type": "stream",
       "stream": "stdout",
       "text": [
        " 403 Client Error: Forbidden: Unknown Error\n",
        "76"
       ]
      },
      {
       "output_type": "stream",
       "stream": "stdout",
       "text": [
        " 403 Client Error: Forbidden: Unknown Error\n",
        "76"
       ]
      },
      {
       "output_type": "stream",
       "stream": "stdout",
       "text": [
        " 403 Client Error: Forbidden: Unknown Error\n",
        "76"
       ]
      },
      {
       "output_type": "stream",
       "stream": "stdout",
       "text": [
        " 403 Client Error: Forbidden: Unknown Error\n",
        "76"
       ]
      },
      {
       "output_type": "stream",
       "stream": "stdout",
       "text": [
        " 403 Client Error: Forbidden: Unknown Error\n",
        "76"
       ]
      },
      {
       "output_type": "stream",
       "stream": "stdout",
       "text": [
        " 403 Client Error: Forbidden: Unknown Error\n",
        "76"
       ]
      },
      {
       "output_type": "stream",
       "stream": "stdout",
       "text": [
        " 403 Client Error: Forbidden: Unknown Error\n",
        "76"
       ]
      },
      {
       "output_type": "stream",
       "stream": "stdout",
       "text": [
        " 403 Client Error: Forbidden: Unknown Error\n",
        "76"
       ]
      },
      {
       "output_type": "stream",
       "stream": "stdout",
       "text": [
        " 403 Client Error: Forbidden: Unknown Error\n",
        "76"
       ]
      },
      {
       "output_type": "stream",
       "stream": "stdout",
       "text": [
        " 403 Client Error: Forbidden: Unknown Error\n",
        "76"
       ]
      },
      {
       "output_type": "stream",
       "stream": "stdout",
       "text": [
        " 403 Client Error: Forbidden: Unknown Error\n",
        "76"
       ]
      },
      {
       "output_type": "stream",
       "stream": "stdout",
       "text": [
        " 403 Client Error: Forbidden: Unknown Error\n",
        "76"
       ]
      },
      {
       "output_type": "stream",
       "stream": "stdout",
       "text": [
        " 403 Client Error: Forbidden: Unknown Error\n",
        "76"
       ]
      },
      {
       "output_type": "stream",
       "stream": "stdout",
       "text": [
        " 403 Client Error: Forbidden: Unknown Error\n",
        "76"
       ]
      },
      {
       "output_type": "stream",
       "stream": "stdout",
       "text": [
        " 403 Client Error: Forbidden: Unknown Error\n",
        "76"
       ]
      },
      {
       "output_type": "stream",
       "stream": "stdout",
       "text": [
        " 403 Client Error: Forbidden: Unknown Error\n",
        "76"
       ]
      },
      {
       "output_type": "stream",
       "stream": "stdout",
       "text": [
        " 403 Client Error: Forbidden: Unknown Error\n",
        "76"
       ]
      },
      {
       "output_type": "stream",
       "stream": "stdout",
       "text": [
        " 403 Client Error: Forbidden: Unknown Error\n",
        "76"
       ]
      },
      {
       "output_type": "stream",
       "stream": "stdout",
       "text": [
        " 403 Client Error: Forbidden: Unknown Error\n",
        "76"
       ]
      },
      {
       "output_type": "stream",
       "stream": "stdout",
       "text": [
        " 403 Client Error: Forbidden: Unknown Error\n",
        "76"
       ]
      },
      {
       "output_type": "stream",
       "stream": "stdout",
       "text": [
        " 403 Client Error: Forbidden: Unknown Error\n",
        "76"
       ]
      },
      {
       "output_type": "stream",
       "stream": "stdout",
       "text": [
        " 403 Client Error: Forbidden: Unknown Error\n",
        "76"
       ]
      },
      {
       "output_type": "stream",
       "stream": "stdout",
       "text": [
        " 403 Client Error: Forbidden: Unknown Error\n",
        "76"
       ]
      },
      {
       "output_type": "stream",
       "stream": "stdout",
       "text": [
        " 403 Client Error: Forbidden: Unknown Error\n",
        "76"
       ]
      },
      {
       "output_type": "stream",
       "stream": "stdout",
       "text": [
        " 403 Client Error: Forbidden: Unknown Error\n",
        "76"
       ]
      },
      {
       "output_type": "stream",
       "stream": "stdout",
       "text": [
        " 403 Client Error: Forbidden: Unknown Error\n",
        "76"
       ]
      },
      {
       "output_type": "stream",
       "stream": "stdout",
       "text": [
        " 403 Client Error: Forbidden: Unknown Error\n",
        "76"
       ]
      },
      {
       "output_type": "stream",
       "stream": "stdout",
       "text": [
        " 403 Client Error: Forbidden: Unknown Error\n",
        "76"
       ]
      },
      {
       "output_type": "stream",
       "stream": "stdout",
       "text": [
        " 403 Client Error: Forbidden: Unknown Error\n",
        "76"
       ]
      },
      {
       "output_type": "stream",
       "stream": "stdout",
       "text": [
        " 403 Client Error: Forbidden: Unknown Error\n",
        "76"
       ]
      },
      {
       "output_type": "stream",
       "stream": "stdout",
       "text": [
        " 403 Client Error: Forbidden: Unknown Error\n",
        "76"
       ]
      },
      {
       "output_type": "stream",
       "stream": "stdout",
       "text": [
        " 403 Client Error: Forbidden: Unknown Error\n",
        "76"
       ]
      },
      {
       "output_type": "stream",
       "stream": "stdout",
       "text": [
        " 403 Client Error: Forbidden: Unknown Error\n",
        "76"
       ]
      },
      {
       "output_type": "stream",
       "stream": "stdout",
       "text": [
        " 403 Client Error: Forbidden: Unknown Error\n",
        "76"
       ]
      },
      {
       "output_type": "stream",
       "stream": "stdout",
       "text": [
        " 403 Client Error: Forbidden: Unknown Error\n",
        "76"
       ]
      },
      {
       "output_type": "stream",
       "stream": "stdout",
       "text": [
        " 403 Client Error: Forbidden: Unknown Error\n",
        "76"
       ]
      },
      {
       "output_type": "stream",
       "stream": "stdout",
       "text": [
        " 403 Client Error: Forbidden: Unknown Error\n",
        "76"
       ]
      },
      {
       "output_type": "stream",
       "stream": "stdout",
       "text": [
        " 403 Client Error: Forbidden: Unknown Error\n",
        "76"
       ]
      },
      {
       "output_type": "stream",
       "stream": "stdout",
       "text": [
        " 403 Client Error: Forbidden: Unknown Error\n",
        "76"
       ]
      },
      {
       "output_type": "stream",
       "stream": "stdout",
       "text": [
        " 403 Client Error: Forbidden: Unknown Error\n",
        "76"
       ]
      },
      {
       "output_type": "stream",
       "stream": "stdout",
       "text": [
        " 403 Client Error: Forbidden: Unknown Error\n",
        "76"
       ]
      },
      {
       "output_type": "stream",
       "stream": "stdout",
       "text": [
        " 403 Client Error: Forbidden: Unknown Error\n",
        "76"
       ]
      },
      {
       "output_type": "stream",
       "stream": "stdout",
       "text": [
        " 403 Client Error: Forbidden: Unknown Error\n",
        "76"
       ]
      },
      {
       "output_type": "stream",
       "stream": "stdout",
       "text": [
        " 403 Client Error: Forbidden: Unknown Error\n",
        "76"
       ]
      },
      {
       "output_type": "stream",
       "stream": "stdout",
       "text": [
        " 403 Client Error: Forbidden: Unknown Error\n",
        "76"
       ]
      },
      {
       "output_type": "stream",
       "stream": "stdout",
       "text": [
        " 403 Client Error: Forbidden: Unknown Error\n",
        "76"
       ]
      },
      {
       "output_type": "stream",
       "stream": "stdout",
       "text": [
        " 403 Client Error: Forbidden: Unknown Error\n",
        "76"
       ]
      },
      {
       "output_type": "stream",
       "stream": "stdout",
       "text": [
        " 403 Client Error: Forbidden: Unknown Error\n",
        "76"
       ]
      },
      {
       "output_type": "stream",
       "stream": "stdout",
       "text": [
        " 403 Client Error: Forbidden: Unknown Error\n",
        "76"
       ]
      },
      {
       "output_type": "stream",
       "stream": "stdout",
       "text": [
        " 403 Client Error: Forbidden: Unknown Error\n",
        "76"
       ]
      },
      {
       "output_type": "stream",
       "stream": "stdout",
       "text": [
        " 403 Client Error: Forbidden: Unknown Error\n",
        "76"
       ]
      },
      {
       "output_type": "stream",
       "stream": "stdout",
       "text": [
        " 403 Client Error: Forbidden: Unknown Error\n",
        "76"
       ]
      },
      {
       "output_type": "stream",
       "stream": "stdout",
       "text": [
        " 403 Client Error: Forbidden: Unknown Error\n",
        "76"
       ]
      },
      {
       "output_type": "stream",
       "stream": "stdout",
       "text": [
        " 403 Client Error: Forbidden: Unknown Error\n",
        "76"
       ]
      },
      {
       "output_type": "stream",
       "stream": "stdout",
       "text": [
        " 403 Client Error: Forbidden: Unknown Error\n",
        "76"
       ]
      },
      {
       "output_type": "stream",
       "stream": "stdout",
       "text": [
        " 403 Client Error: Forbidden: Unknown Error\n",
        "76"
       ]
      },
      {
       "output_type": "stream",
       "stream": "stdout",
       "text": [
        " 403 Client Error: Forbidden: Unknown Error\n",
        "76"
       ]
      },
      {
       "output_type": "stream",
       "stream": "stdout",
       "text": [
        " 403 Client Error: Forbidden: Unknown Error\n",
        "76"
       ]
      },
      {
       "output_type": "stream",
       "stream": "stdout",
       "text": [
        " 403 Client Error: Forbidden: Unknown Error\n",
        "76"
       ]
      },
      {
       "output_type": "stream",
       "stream": "stdout",
       "text": [
        " 403 Client Error: Forbidden: Unknown Error\n",
        "76"
       ]
      },
      {
       "output_type": "stream",
       "stream": "stdout",
       "text": [
        " 403 Client Error: Forbidden: Unknown Error\n",
        "76"
       ]
      },
      {
       "output_type": "stream",
       "stream": "stdout",
       "text": [
        " 403 Client Error: Forbidden: Unknown Error\n",
        "76"
       ]
      },
      {
       "output_type": "stream",
       "stream": "stdout",
       "text": [
        " 403 Client Error: Forbidden: Unknown Error\n",
        "76"
       ]
      },
      {
       "output_type": "stream",
       "stream": "stdout",
       "text": [
        " 403 Client Error: Forbidden: Unknown Error\n",
        "76"
       ]
      },
      {
       "output_type": "stream",
       "stream": "stdout",
       "text": [
        " 403 Client Error: Forbidden: Unknown Error\n",
        "76"
       ]
      },
      {
       "output_type": "stream",
       "stream": "stdout",
       "text": [
        " 403 Client Error: Forbidden: Unknown Error\n",
        "76"
       ]
      },
      {
       "output_type": "stream",
       "stream": "stdout",
       "text": [
        " 403 Client Error: Forbidden: Unknown Error\n",
        "76"
       ]
      },
      {
       "output_type": "stream",
       "stream": "stdout",
       "text": [
        " 403 Client Error: Forbidden: Unknown Error\n",
        "76"
       ]
      },
      {
       "output_type": "stream",
       "stream": "stdout",
       "text": [
        " 403 Client Error: Forbidden: Unknown Error\n",
        "76"
       ]
      },
      {
       "output_type": "stream",
       "stream": "stdout",
       "text": [
        " 403 Client Error: Forbidden: Unknown Error\n",
        "76"
       ]
      },
      {
       "output_type": "stream",
       "stream": "stdout",
       "text": [
        " 403 Client Error: Forbidden: Unknown Error\n",
        "76"
       ]
      },
      {
       "output_type": "stream",
       "stream": "stdout",
       "text": [
        " 403 Client Error: Forbidden: Unknown Error\n",
        "76"
       ]
      },
      {
       "output_type": "stream",
       "stream": "stdout",
       "text": [
        " 403 Client Error: Forbidden: Unknown Error\n",
        "76"
       ]
      },
      {
       "output_type": "stream",
       "stream": "stdout",
       "text": [
        " 403 Client Error: Forbidden: Unknown Error\n",
        "76"
       ]
      },
      {
       "output_type": "stream",
       "stream": "stdout",
       "text": [
        " 403 Client Error: Forbidden: Unknown Error\n",
        "76"
       ]
      },
      {
       "output_type": "stream",
       "stream": "stdout",
       "text": [
        " 403 Client Error: Forbidden: Unknown Error\n",
        "76"
       ]
      },
      {
       "output_type": "stream",
       "stream": "stdout",
       "text": [
        " 403 Client Error: Forbidden: Unknown Error\n",
        "76"
       ]
      },
      {
       "output_type": "stream",
       "stream": "stdout",
       "text": [
        " 403 Client Error: Forbidden: Unknown Error\n",
        "76"
       ]
      },
      {
       "output_type": "stream",
       "stream": "stdout",
       "text": [
        " 403 Client Error: Forbidden: Unknown Error\n",
        "76"
       ]
      },
      {
       "output_type": "stream",
       "stream": "stdout",
       "text": [
        " 403 Client Error: Forbidden: Unknown Error\n",
        "76"
       ]
      },
      {
       "output_type": "stream",
       "stream": "stdout",
       "text": [
        " 403 Client Error: Forbidden: Unknown Error\n",
        "76"
       ]
      },
      {
       "output_type": "stream",
       "stream": "stdout",
       "text": [
        " 403 Client Error: Forbidden: Unknown Error\n",
        "76"
       ]
      },
      {
       "output_type": "stream",
       "stream": "stdout",
       "text": [
        " 403 Client Error: Forbidden: Unknown Error\n",
        "76"
       ]
      },
      {
       "output_type": "stream",
       "stream": "stdout",
       "text": [
        " 403 Client Error: Forbidden: Unknown Error\n",
        "76"
       ]
      },
      {
       "output_type": "stream",
       "stream": "stdout",
       "text": [
        " 403 Client Error: Forbidden: Unknown Error\n",
        "76"
       ]
      },
      {
       "output_type": "stream",
       "stream": "stdout",
       "text": [
        " 403 Client Error: Forbidden: Unknown Error\n",
        "76"
       ]
      },
      {
       "output_type": "stream",
       "stream": "stdout",
       "text": [
        " 403 Client Error: Forbidden: Unknown Error\n",
        "76"
       ]
      },
      {
       "output_type": "stream",
       "stream": "stdout",
       "text": [
        " 403 Client Error: Forbidden: Unknown Error\n",
        "76"
       ]
      },
      {
       "output_type": "stream",
       "stream": "stdout",
       "text": [
        " 403 Client Error: Forbidden: Unknown Error\n",
        "76"
       ]
      },
      {
       "output_type": "stream",
       "stream": "stdout",
       "text": [
        " 403 Client Error: Forbidden: Unknown Error\n",
        "76"
       ]
      },
      {
       "output_type": "stream",
       "stream": "stdout",
       "text": [
        " 403 Client Error: Forbidden: Unknown Error\n",
        "76"
       ]
      },
      {
       "output_type": "stream",
       "stream": "stdout",
       "text": [
        " 403 Client Error: Forbidden: Unknown Error\n",
        "76"
       ]
      },
      {
       "output_type": "stream",
       "stream": "stdout",
       "text": [
        " 403 Client Error: Forbidden: Unknown Error\n",
        "76"
       ]
      },
      {
       "output_type": "stream",
       "stream": "stdout",
       "text": [
        " 403 Client Error: Forbidden: Unknown Error\n",
        "76"
       ]
      },
      {
       "output_type": "stream",
       "stream": "stdout",
       "text": [
        " 403 Client Error: Forbidden: Unknown Error\n",
        "76"
       ]
      },
      {
       "output_type": "stream",
       "stream": "stdout",
       "text": [
        " 403 Client Error: Forbidden: Unknown Error\n",
        "76"
       ]
      },
      {
       "output_type": "stream",
       "stream": "stdout",
       "text": [
        " 403 Client Error: Forbidden: Unknown Error\n",
        "76"
       ]
      },
      {
       "output_type": "stream",
       "stream": "stdout",
       "text": [
        " 403 Client Error: Forbidden: Unknown Error\n",
        "76"
       ]
      },
      {
       "output_type": "stream",
       "stream": "stdout",
       "text": [
        " 403 Client Error: Forbidden: Unknown Error\n",
        "76"
       ]
      },
      {
       "output_type": "stream",
       "stream": "stdout",
       "text": [
        " 403 Client Error: Forbidden: Unknown Error\n",
        "76"
       ]
      },
      {
       "output_type": "stream",
       "stream": "stdout",
       "text": [
        " 403 Client Error: Forbidden: Unknown Error\n",
        "76"
       ]
      },
      {
       "output_type": "stream",
       "stream": "stdout",
       "text": [
        " 403 Client Error: Forbidden: Unknown Error\n",
        "76"
       ]
      },
      {
       "output_type": "stream",
       "stream": "stdout",
       "text": [
        " 403 Client Error: Forbidden: Unknown Error\n",
        "76"
       ]
      },
      {
       "output_type": "stream",
       "stream": "stdout",
       "text": [
        " 403 Client Error: Forbidden: Unknown Error\n",
        "76"
       ]
      },
      {
       "output_type": "stream",
       "stream": "stdout",
       "text": [
        " 403 Client Error: Forbidden: Unknown Error\n",
        "76"
       ]
      },
      {
       "output_type": "stream",
       "stream": "stdout",
       "text": [
        " 403 Client Error: Forbidden: Unknown Error\n",
        "76"
       ]
      },
      {
       "output_type": "stream",
       "stream": "stdout",
       "text": [
        " 403 Client Error: Forbidden: Unknown Error\n",
        "76"
       ]
      },
      {
       "output_type": "stream",
       "stream": "stdout",
       "text": [
        " 403 Client Error: Forbidden: Unknown Error\n",
        "76"
       ]
      },
      {
       "output_type": "stream",
       "stream": "stdout",
       "text": [
        " 403 Client Error: Forbidden: Unknown Error\n",
        "76"
       ]
      },
      {
       "output_type": "stream",
       "stream": "stdout",
       "text": [
        " 403 Client Error: Forbidden: Unknown Error\n",
        "76"
       ]
      },
      {
       "output_type": "stream",
       "stream": "stdout",
       "text": [
        " 403 Client Error: Forbidden: Unknown Error\n",
        "76"
       ]
      },
      {
       "output_type": "stream",
       "stream": "stdout",
       "text": [
        " 403 Client Error: Forbidden: Unknown Error\n",
        "76"
       ]
      },
      {
       "output_type": "stream",
       "stream": "stdout",
       "text": [
        " 403 Client Error: Forbidden: Unknown Error\n",
        "76"
       ]
      },
      {
       "output_type": "stream",
       "stream": "stdout",
       "text": [
        " 403 Client Error: Forbidden: Unknown Error\n",
        "76"
       ]
      },
      {
       "output_type": "stream",
       "stream": "stdout",
       "text": [
        " 403 Client Error: Forbidden: Unknown Error\n",
        "76"
       ]
      },
      {
       "output_type": "stream",
       "stream": "stdout",
       "text": [
        " 403 Client Error: Forbidden: Unknown Error\n",
        "76"
       ]
      },
      {
       "output_type": "stream",
       "stream": "stdout",
       "text": [
        " 403 Client Error: Forbidden: Unknown Error\n",
        "76"
       ]
      },
      {
       "output_type": "stream",
       "stream": "stdout",
       "text": [
        " 403 Client Error: Forbidden: Unknown Error\n",
        "76"
       ]
      },
      {
       "output_type": "stream",
       "stream": "stdout",
       "text": [
        " 403 Client Error: Forbidden: Unknown Error\n",
        "76"
       ]
      },
      {
       "output_type": "stream",
       "stream": "stdout",
       "text": [
        " 403 Client Error: Forbidden: Unknown Error\n",
        "76"
       ]
      },
      {
       "output_type": "stream",
       "stream": "stdout",
       "text": [
        " 403 Client Error: Forbidden: Unknown Error\n",
        "76"
       ]
      },
      {
       "output_type": "stream",
       "stream": "stdout",
       "text": [
        " 403 Client Error: Forbidden: Unknown Error\n",
        "76"
       ]
      },
      {
       "output_type": "stream",
       "stream": "stdout",
       "text": [
        " 403 Client Error: Forbidden: Unknown Error\n",
        "76"
       ]
      },
      {
       "output_type": "stream",
       "stream": "stdout",
       "text": [
        " 403 Client Error: Forbidden: Unknown Error\n",
        "76"
       ]
      },
      {
       "output_type": "stream",
       "stream": "stdout",
       "text": [
        " 403 Client Error: Forbidden: Unknown Error\n",
        "76"
       ]
      },
      {
       "output_type": "stream",
       "stream": "stdout",
       "text": [
        " 403 Client Error: Forbidden: Unknown Error\n",
        "76"
       ]
      },
      {
       "output_type": "stream",
       "stream": "stdout",
       "text": [
        " 403 Client Error: Forbidden: Unknown Error\n",
        "76"
       ]
      },
      {
       "output_type": "stream",
       "stream": "stdout",
       "text": [
        " 403 Client Error: Forbidden: Unknown Error\n",
        "76"
       ]
      },
      {
       "output_type": "stream",
       "stream": "stdout",
       "text": [
        " 403 Client Error: Forbidden: Unknown Error\n",
        "76"
       ]
      },
      {
       "output_type": "stream",
       "stream": "stdout",
       "text": [
        " 403 Client Error: Forbidden: Unknown Error\n",
        "76"
       ]
      },
      {
       "output_type": "stream",
       "stream": "stdout",
       "text": [
        " 403 Client Error: Forbidden: Unknown Error\n",
        "76"
       ]
      },
      {
       "output_type": "stream",
       "stream": "stdout",
       "text": [
        " 403 Client Error: Forbidden: Unknown Error\n",
        "76"
       ]
      },
      {
       "output_type": "stream",
       "stream": "stdout",
       "text": [
        " 403 Client Error: Forbidden: Unknown Error\n",
        "76"
       ]
      },
      {
       "output_type": "stream",
       "stream": "stdout",
       "text": [
        " 403 Client Error: Forbidden: Unknown Error\n",
        "76"
       ]
      },
      {
       "output_type": "stream",
       "stream": "stdout",
       "text": [
        " 403 Client Error: Forbidden: Unknown Error\n",
        "76"
       ]
      },
      {
       "output_type": "stream",
       "stream": "stdout",
       "text": [
        " 403 Client Error: Forbidden: Unknown Error\n",
        "76"
       ]
      },
      {
       "output_type": "stream",
       "stream": "stdout",
       "text": [
        " 403 Client Error: Forbidden: Unknown Error\n",
        "76"
       ]
      },
      {
       "output_type": "stream",
       "stream": "stdout",
       "text": [
        " 403 Client Error: Forbidden: Unknown Error\n",
        "76"
       ]
      },
      {
       "output_type": "stream",
       "stream": "stdout",
       "text": [
        " 403 Client Error: Forbidden: Unknown Error\n",
        "76"
       ]
      },
      {
       "output_type": "stream",
       "stream": "stdout",
       "text": [
        " 403 Client Error: Forbidden: Unknown Error\n",
        "76"
       ]
      },
      {
       "output_type": "stream",
       "stream": "stdout",
       "text": [
        " 403 Client Error: Forbidden: Unknown Error\n",
        "76"
       ]
      },
      {
       "output_type": "stream",
       "stream": "stdout",
       "text": [
        " 403 Client Error: Forbidden: Unknown Error\n",
        "76"
       ]
      },
      {
       "output_type": "stream",
       "stream": "stdout",
       "text": [
        " 403 Client Error: Forbidden: Unknown Error\n",
        "76"
       ]
      },
      {
       "output_type": "stream",
       "stream": "stdout",
       "text": [
        " 403 Client Error: Forbidden: Unknown Error\n",
        "76"
       ]
      },
      {
       "output_type": "stream",
       "stream": "stdout",
       "text": [
        " 403 Client Error: Forbidden: Unknown Error\n",
        "76"
       ]
      },
      {
       "output_type": "stream",
       "stream": "stdout",
       "text": [
        " 403 Client Error: Forbidden: Unknown Error\n",
        "76"
       ]
      },
      {
       "output_type": "stream",
       "stream": "stdout",
       "text": [
        " 403 Client Error: Forbidden: Unknown Error\n",
        "76"
       ]
      },
      {
       "output_type": "stream",
       "stream": "stdout",
       "text": [
        " 403 Client Error: Forbidden: Unknown Error\n",
        "76"
       ]
      },
      {
       "output_type": "stream",
       "stream": "stdout",
       "text": [
        " 403 Client Error: Forbidden: Unknown Error\n",
        "76"
       ]
      },
      {
       "output_type": "stream",
       "stream": "stdout",
       "text": [
        " 403 Client Error: Forbidden: Unknown Error\n",
        "76"
       ]
      },
      {
       "output_type": "stream",
       "stream": "stdout",
       "text": [
        " 403 Client Error: Forbidden: Unknown Error\n",
        "76"
       ]
      },
      {
       "output_type": "stream",
       "stream": "stdout",
       "text": [
        " 403 Client Error: Forbidden: Unknown Error\n",
        "76"
       ]
      },
      {
       "output_type": "stream",
       "stream": "stdout",
       "text": [
        " 403 Client Error: Forbidden: Unknown Error\n",
        "76"
       ]
      },
      {
       "output_type": "stream",
       "stream": "stdout",
       "text": [
        " 403 Client Error: Forbidden: Unknown Error\n",
        "76"
       ]
      },
      {
       "output_type": "stream",
       "stream": "stdout",
       "text": [
        " 403 Client Error: Forbidden: Unknown Error\n",
        "76"
       ]
      },
      {
       "output_type": "stream",
       "stream": "stdout",
       "text": [
        " 403 Client Error: Forbidden: Unknown Error\n",
        "76"
       ]
      },
      {
       "output_type": "stream",
       "stream": "stdout",
       "text": [
        " 403 Client Error: Forbidden: Unknown Error\n",
        "76"
       ]
      },
      {
       "output_type": "stream",
       "stream": "stdout",
       "text": [
        " 403 Client Error: Forbidden: Unknown Error\n",
        "76"
       ]
      },
      {
       "output_type": "stream",
       "stream": "stdout",
       "text": [
        " 403 Client Error: Forbidden: Unknown Error\n",
        "76"
       ]
      },
      {
       "output_type": "stream",
       "stream": "stdout",
       "text": [
        " 403 Client Error: Forbidden: Unknown Error\n",
        "76"
       ]
      },
      {
       "output_type": "stream",
       "stream": "stdout",
       "text": [
        " 403 Client Error: Forbidden: Unknown Error\n",
        "76"
       ]
      },
      {
       "output_type": "stream",
       "stream": "stdout",
       "text": [
        " 403 Client Error: Forbidden: Unknown Error\n",
        "76"
       ]
      },
      {
       "output_type": "stream",
       "stream": "stdout",
       "text": [
        " 403 Client Error: Forbidden: Unknown Error\n",
        "76"
       ]
      },
      {
       "output_type": "stream",
       "stream": "stdout",
       "text": [
        " 403 Client Error: Forbidden: Unknown Error\n",
        "76"
       ]
      },
      {
       "output_type": "stream",
       "stream": "stdout",
       "text": [
        " 403 Client Error: Forbidden: Unknown Error\n",
        "76"
       ]
      },
      {
       "output_type": "stream",
       "stream": "stdout",
       "text": [
        " 403 Client Error: Forbidden: Unknown Error\n",
        "76"
       ]
      },
      {
       "output_type": "stream",
       "stream": "stdout",
       "text": [
        " 403 Client Error: Forbidden: Unknown Error\n",
        "76"
       ]
      },
      {
       "output_type": "stream",
       "stream": "stdout",
       "text": [
        " 403 Client Error: Forbidden: Unknown Error\n",
        "76"
       ]
      },
      {
       "output_type": "stream",
       "stream": "stdout",
       "text": [
        " 403 Client Error: Forbidden: Unknown Error\n",
        "76"
       ]
      },
      {
       "output_type": "stream",
       "stream": "stdout",
       "text": [
        " 403 Client Error: Forbidden: Unknown Error\n",
        "76"
       ]
      },
      {
       "output_type": "stream",
       "stream": "stdout",
       "text": [
        " 403 Client Error: Forbidden: Unknown Error\n",
        "76"
       ]
      },
      {
       "output_type": "stream",
       "stream": "stdout",
       "text": [
        " 403 Client Error: Forbidden: Unknown Error\n",
        "76"
       ]
      },
      {
       "output_type": "stream",
       "stream": "stdout",
       "text": [
        " 403 Client Error: Forbidden: Unknown Error\n",
        "76"
       ]
      },
      {
       "output_type": "stream",
       "stream": "stdout",
       "text": [
        " 403 Client Error: Forbidden: Unknown Error\n"
       ]
      }
     ],
     "prompt_number": 405
    },
    {
     "cell_type": "code",
     "collapsed": false,
     "input": [
      "len(conn_data)"
     ],
     "language": "python",
     "metadata": {},
     "outputs": [
      {
       "metadata": {},
       "output_type": "pyout",
       "prompt_number": 406,
       "text": [
        "76"
       ]
      }
     ],
     "prompt_number": 406
    },
    {
     "cell_type": "markdown",
     "metadata": {},
     "source": [
      "Some code snippets to handle one url"
     ]
    },
    {
     "cell_type": "code",
     "collapsed": false,
     "input": [
      "response = requests.get(\"https://www.linkedin.com/in/teppojouttenus\")"
     ],
     "language": "python",
     "metadata": {},
     "outputs": [],
     "prompt_number": 10
    },
    {
     "cell_type": "code",
     "collapsed": false,
     "input": [
      "nStart = string.find(response.text, \"<h3>Experience</h3>\")\n",
      "nEnd = string.find(response.text, \"<h3>Education</h3>\")"
     ],
     "language": "python",
     "metadata": {},
     "outputs": [],
     "prompt_number": 30
    },
    {
     "cell_type": "code",
     "collapsed": false,
     "input": [
      "resp = response.text[nStart:nEnd]"
     ],
     "language": "python",
     "metadata": {},
     "outputs": [],
     "prompt_number": 31
    },
    {
     "cell_type": "code",
     "collapsed": false,
     "input": [
      "matchstring = \"\"\"<h4>(.*?)</h4><h5><a href=\".*?\">(.*?)</a></h5></header><span class=\"experience-date-locale\"><time>(.*?)&#8211;(.*?)\\((.*?)\\).*?<span class=\"locality\">(.*?)</span>\"\"\""
     ],
     "language": "python",
     "metadata": {},
     "outputs": [],
     "prompt_number": 115
    },
    {
     "cell_type": "markdown",
     "metadata": {},
     "source": [
      "Parse all the public url data and create a list of entries. \n",
      "this can take several minutes to run for ~200 contacts."
     ]
    },
    {
     "cell_type": "code",
     "collapsed": false,
     "input": [
      "parseddata = []"
     ],
     "language": "python",
     "metadata": {},
     "outputs": []
    },
    {
     "cell_type": "code",
     "collapsed": false,
     "input": [
      "for urldata in conn_data.values():\n",
      "    url = urldata['publicUrl']\n",
      "    response = requests.get(url)\n",
      "    nStart = string.find(response.text, \"<h3>Experience</h3>\")\n",
      "    nEnd = string.find(response.text, \"<h3>Education</h3>\")\n",
      "    resp = response.text[nStart:nEnd]\n",
      "    if response.status_code == 200:\n",
      "        matches = re.findall(matchstring, resp)\n",
      "        #print len(matches), url\n",
      "        for m in matches:\n",
      "            # clean up\n",
      "            m = list(m)\n",
      "            m[2] = m[2].split('</time>')[0]\n",
      "            m[2] = m[2].strip()\n",
      "            if m[3].find('<time>') != -1:\n",
      "                m[3] = m[3].split('<time>')[1]\n",
      "            if m[3].find('</time>') != -1:\n",
      "                m[3] = m[3].split('</time>')[0]  \n",
      "            m[3] = m[3].strip()\n",
      "            # if any field is too long, then skip\n",
      "            if any([len(field)>200 for field in m]):\n",
      "                continue\n",
      "            parseddata.append(m)"
     ],
     "language": "python",
     "metadata": {},
     "outputs": [],
     "prompt_number": 407
    },
    {
     "cell_type": "code",
     "collapsed": false,
     "input": [
      "len(parseddata)"
     ],
     "language": "python",
     "metadata": {},
     "outputs": [
      {
       "metadata": {},
       "output_type": "pyout",
       "prompt_number": 408,
       "text": [
        "488"
       ]
      }
     ],
     "prompt_number": 408
    },
    {
     "cell_type": "code",
     "collapsed": false,
     "input": [
      "parseddata"
     ],
     "language": "python",
     "metadata": {},
     "outputs": [
      {
       "metadata": {},
       "output_type": "pyout",
       "prompt_number": 150,
       "text": [
        "[[u'Director, People / HRBP',\n",
        "  u'Rocket Fuel Inc.',\n",
        "  u'2013',\n",
        "  u'Present',\n",
        "  u'1 year',\n",
        "  u'Redwood Shores, CA'],\n",
        " [u'Executive Director, Co-Founder, Board of Directors',\n",
        "  u'BioCurious',\n",
        "  u'2009',\n",
        "  u'2014',\n",
        "  u'5 years',\n",
        "  u'Sunnyvale, CA'],\n",
        " [u'Head of People Operations &amp; Talent Acquisition (Consultant)',\n",
        "  u'Singularity University',\n",
        "  u'2012',\n",
        "  u'2013',\n",
        "  u'1 year',\n",
        "  u'Mountain View, NASA/Ames Campus'],\n",
        " [u'Senior Consultant, People Team',\n",
        "  u'Rocket Fuel Inc.',\n",
        "  u'2011',\n",
        "  u'2013',\n",
        "  u'2 years',\n",
        "  u'Redwood Shores, CA'],\n",
        " [u'HR Executive / Principal Consultant',\n",
        "  u'Kristina Hathaway Consulting',\n",
        "  u'2010',\n",
        "  u'2013',\n",
        "  u'3 years',\n",
        "  u'San Francisco Bay Area'],\n",
        " [u'VP, People and Talent (Consultant)',\n",
        "  u'Station X',\n",
        "  u'2010',\n",
        "  u'2013',\n",
        "  u'3 years',\n",
        "  u'Redwood City, CA'],\n",
        " [u'Vice President, Life Sciences',\n",
        "  u'Sage Human Capital',\n",
        "  u'2010',\n",
        "  u'2011',\n",
        "  u'1 year',\n",
        "  u'San Bruno, CA'],\n",
        " [u'Director, Human Resources',\n",
        "  u'UBC Clinical Technologies (now Bracket)',\n",
        "  u'2009',\n",
        "  u'2010',\n",
        "  u'1 year',\n",
        "  u'San Francisco, CA'],\n",
        " [u'Director, Human Resources',\n",
        "  u'Tercica (now Ipsen)',\n",
        "  u'2009',\n",
        "  u'2009',\n",
        "  u'less than a year',\n",
        "  u'Brisbane, CA (Company Headquarters in Paris, France)'],\n",
        " [u'Principal Consultant',\n",
        "  u'Kristina Hathaway Consulting',\n",
        "  u'2008',\n",
        "  u'2009',\n",
        "  u'1 year',\n",
        "  u'Mountain View, CA'],\n",
        " [u'Engineer in Training, EIT',\n",
        "  u'Autopro Automation Consultants Ltd.',\n",
        "  u'September 2011',\n",
        "  u'Present',\n",
        "  u'3 years 3 months',\n",
        "  u'Burnaby, BC'],\n",
        " [u'Chief Technology Officer',\n",
        "  u'Comergent',\n",
        "  u'1998',\n",
        "  u'1999',\n",
        "  u'1 year',\n",
        "  u'Redwood Shores, CA'],\n",
        " [u'Relationship Manager',\n",
        "  u'edX',\n",
        "  u'July 2014',\n",
        "  u'Present',\n",
        "  u'5 months',\n",
        "  u'Cambridge, MA'],\n",
        " [u'Senior Program Manager',\n",
        "  u'edX',\n",
        "  u'May 2012',\n",
        "  u'June 2014',\n",
        "  u'2 years 2 months',\n",
        "  u'Cambridge, MA'],\n",
        " [u'Research Assistant',\n",
        "  u'MIT',\n",
        "  u'September 2007',\n",
        "  u'May 2012',\n",
        "  u'4 years 9 months',\n",
        "  u'Cambridge, MA'],\n",
        " [u'Youth Counselor',\n",
        "  u'The Church of Jesus Christ of Latter-day Saints',\n",
        "  u'2007',\n",
        "  u'2007',\n",
        "  u'less than a year',\n",
        "  u'Finland'],\n",
        " [u'Ph.D. Candidate / Research Assistant',\n",
        "  u'Massachusetts Institute of Technology (MIT)',\n",
        "  u'September 2007',\n",
        "  u'Present',\n",
        "  u'7 years 3 months',\n",
        "  u'Cambridge, MA, USA'],\n",
        " [u'Founder &amp; CEO',\n",
        "  u'LEIA Inc.',\n",
        "  u'January 2014',\n",
        "  u'Present',\n",
        "  u'11 months',\n",
        "  u'Menlo Park, CA'],\n",
        " [u'Head of Business Development and Marketing',\n",
        "  u'ScalingData',\n",
        "  u'2014',\n",
        "  u'Present',\n",
        "  u'less than a year',\n",
        "  u'Silicon Valley'],\n",
        " [u'Engineering Futures Facilitator',\n",
        "  u'Tau Beta Pi',\n",
        "  u'2001',\n",
        "  u'Present',\n",
        "  u'13 years',\n",
        "  u'San Jose, CA'],\n",
        " [u'Director of Business Development / Alliances',\n",
        "  u'Datameer',\n",
        "  u'2011',\n",
        "  u'2012',\n",
        "  u'1 year',\n",
        "  u'San Mateo, CA'],\n",
        " [u'Business Development Partner',\n",
        "  u'Parasians',\n",
        "  u'2009',\n",
        "  u'2012',\n",
        "  u'3 years',\n",
        "  u'Mountain View / NY.P.D. -- NYC, Philadelphia, DC']]"
       ]
      }
     ],
     "prompt_number": 150
    },
    {
     "cell_type": "code",
     "collapsed": false,
     "input": [
      "colnames = ['JobTitle', 'Company', 'StartDate', 'EndDate', 'Duration', 'Location']\n",
      "df = pd.DataFrame.from_records(parseddata, columns=colnames)"
     ],
     "language": "python",
     "metadata": {},
     "outputs": [],
     "prompt_number": 409
    },
    {
     "cell_type": "code",
     "collapsed": false,
     "input": [
      "def parseDuration(s):\n",
      "    \n",
      "    if s == 'less than a year': \n",
      "        return -1\n",
      "    if s.find('year') != -1:\n",
      "        yr = s.split(' ')[0]\n",
      "    else:\n",
      "        yr = '0'\n",
      "    if s.find('month') != -1:\n",
      "        mo_part = s.split('month')[0]\n",
      "        mo = mo_part.strip().split(' ')[-1]\n",
      "    else:\n",
      "        mo = 0\n",
      "    dur = float(yr) + float(mo)/12.\n",
      "    return dur"
     ],
     "language": "python",
     "metadata": {},
     "outputs": [],
     "prompt_number": 193
    },
    {
     "cell_type": "code",
     "collapsed": false,
     "input": [
      "df['Duration_yr'] = map(parseDuration, df['Duration'])"
     ],
     "language": "python",
     "metadata": {},
     "outputs": [],
     "prompt_number": 410
    },
    {
     "cell_type": "code",
     "collapsed": false,
     "input": [
      "df.columns"
     ],
     "language": "python",
     "metadata": {},
     "outputs": [
      {
       "metadata": {},
       "output_type": "pyout",
       "prompt_number": 411,
       "text": [
        "Index([u'JobTitle', u'Company', u'StartDate', u'EndDate', u'Duration', u'Location', u'Duration_yr'], dtype='object')"
       ]
      }
     ],
     "prompt_number": 411
    },
    {
     "cell_type": "code",
     "collapsed": false,
     "input": [
      "def binJobTitle(s):\n",
      "    tags = [\n",
      "        ('ntern', 'Intern'), ('Student', 'Student'), ('PhD', 'Student'),\n",
      "        ('Research', 'Research'), \n",
      "        ('Program Manager', 'PM'), \n",
      "        ('Postdoc', 'Postdoc'), ('Post-doc', 'Postdoc'), \n",
      "        ('Software', 'Software Eng'),\n",
      "        ('Project Manager', 'PM'), ('ounder', 'Founder'), ('Designer', 'Designer'), \n",
      "        ('Engineer', 'Engineer'),\n",
      "        ('Lecturer', 'Academia'), ('Professor', 'Academia'), ('Instructor', 'Academia'),\n",
      "        ('Manager', 'Manager'),\n",
      "        ('Physic', 'Scientist'), ('Chemist', 'Scientist'), ('Scientist', 'Scientist'),\n",
      "        ('Assistant', 'Assistant'), \n",
      "        ('Consultant', 'Consultant'), ('CEO', 'CEO')\n",
      "    ]\n",
      "    for keyword, title in tags:\n",
      "        if s.find(keyword) != -1:\n",
      "            return title\n",
      "    return 'Other'"
     ],
     "language": "python",
     "metadata": {},
     "outputs": [],
     "prompt_number": 362
    },
    {
     "cell_type": "code",
     "collapsed": false,
     "input": [
      "df['JobType'] = map(binJobTitle, df['JobTitle'])"
     ],
     "language": "python",
     "metadata": {},
     "outputs": [],
     "prompt_number": 412
    },
    {
     "cell_type": "code",
     "collapsed": false,
     "input": [
      "df[0:5]"
     ],
     "language": "python",
     "metadata": {},
     "outputs": [
      {
       "html": [
        "<div style=\"max-height:1000px;max-width:1500px;overflow:auto;\">\n",
        "<table border=\"1\" class=\"dataframe\">\n",
        "  <thead>\n",
        "    <tr style=\"text-align: right;\">\n",
        "      <th></th>\n",
        "      <th>JobTitle</th>\n",
        "      <th>Company</th>\n",
        "      <th>StartDate</th>\n",
        "      <th>EndDate</th>\n",
        "      <th>Duration</th>\n",
        "      <th>Location</th>\n",
        "      <th>Duration_yr</th>\n",
        "      <th>JobType</th>\n",
        "      <th>LocationType</th>\n",
        "    </tr>\n",
        "  </thead>\n",
        "  <tbody>\n",
        "    <tr>\n",
        "      <th>0</th>\n",
        "      <td> Graduate Research Assistant</td>\n",
        "      <td> Vuletic Group, Department of Physics, Massachu...</td>\n",
        "      <td> September 2010</td>\n",
        "      <td>       Present</td>\n",
        "      <td> 4 years 3 months</td>\n",
        "      <td>            Holmdel, NJ</td>\n",
        "      <td> 4.250000</td>\n",
        "      <td> Research</td>\n",
        "      <td> NJ</td>\n",
        "    </tr>\n",
        "    <tr>\n",
        "      <th>1</th>\n",
        "      <td>           Founder &amp;amp; CEO</td>\n",
        "      <td>                                         LEIA Inc.</td>\n",
        "      <td>   January 2014</td>\n",
        "      <td>       Present</td>\n",
        "      <td>        11 months</td>\n",
        "      <td>         Menlo Park, CA</td>\n",
        "      <td> 0.916667</td>\n",
        "      <td>  Founder</td>\n",
        "      <td> CA</td>\n",
        "    </tr>\n",
        "    <tr>\n",
        "      <th>2</th>\n",
        "      <td>    User Experience Designer</td>\n",
        "      <td>               Intertrust Technologies Corporation</td>\n",
        "      <td>       May 2014</td>\n",
        "      <td>       Present</td>\n",
        "      <td>         7 months</td>\n",
        "      <td> San Francisco Bay Area</td>\n",
        "      <td> 0.583333</td>\n",
        "      <td> Designer</td>\n",
        "      <td> CA</td>\n",
        "    </tr>\n",
        "    <tr>\n",
        "      <th>3</th>\n",
        "      <td>             Visual Designer</td>\n",
        "      <td>                                  Good World Media</td>\n",
        "      <td>      July 2011</td>\n",
        "      <td> November 2013</td>\n",
        "      <td> 2 years 5 months</td>\n",
        "      <td>               New York</td>\n",
        "      <td> 2.416667</td>\n",
        "      <td> Designer</td>\n",
        "      <td> NY</td>\n",
        "    </tr>\n",
        "    <tr>\n",
        "      <th>4</th>\n",
        "      <td>        Visual Design Intern</td>\n",
        "      <td>                                              CIBO</td>\n",
        "      <td>   January 2013</td>\n",
        "      <td>      May 2013</td>\n",
        "      <td>         5 months</td>\n",
        "      <td> San Francisco Bay Area</td>\n",
        "      <td> 0.416667</td>\n",
        "      <td>   Intern</td>\n",
        "      <td> CA</td>\n",
        "    </tr>\n",
        "  </tbody>\n",
        "</table>\n",
        "</div>"
       ],
       "metadata": {},
       "output_type": "pyout",
       "prompt_number": 604,
       "text": [
        "                      JobTitle  \\\n",
        "0  Graduate Research Assistant   \n",
        "1            Founder &amp; CEO   \n",
        "2     User Experience Designer   \n",
        "3              Visual Designer   \n",
        "4         Visual Design Intern   \n",
        "\n",
        "                                             Company       StartDate  \\\n",
        "0  Vuletic Group, Department of Physics, Massachu...  September 2010   \n",
        "1                                          LEIA Inc.    January 2014   \n",
        "2                Intertrust Technologies Corporation        May 2014   \n",
        "3                                   Good World Media       July 2011   \n",
        "4                                               CIBO    January 2013   \n",
        "\n",
        "         EndDate          Duration                Location  Duration_yr  \\\n",
        "0        Present  4 years 3 months             Holmdel, NJ     4.250000   \n",
        "1        Present         11 months          Menlo Park, CA     0.916667   \n",
        "2        Present          7 months  San Francisco Bay Area     0.583333   \n",
        "3  November 2013  2 years 5 months                New York     2.416667   \n",
        "4       May 2013          5 months  San Francisco Bay Area     0.416667   \n",
        "\n",
        "    JobType LocationType  \n",
        "0  Research           NJ  \n",
        "1   Founder           CA  \n",
        "2  Designer           CA  \n",
        "3  Designer           NY  \n",
        "4    Intern           CA  "
       ]
      }
     ],
     "prompt_number": 604
    },
    {
     "cell_type": "code",
     "collapsed": false,
     "input": [
      "state_trans = [('Oregon', 'OR'), ('Ohio', 'OH'), ('Louis', 'MO'), ('Boston', 'MA'), \n",
      "('California', 'CA'), ('New York', 'NY'), ('San Diego', 'CA'), ('Michigan', 'MI'), ('Chicago', 'IL'),\n",
      "('Massachusetts', 'MA'), ('Texas', 'TX'), ('Arizona', 'AZ'), ('Seattle', 'WA'), ('llinois', 'IL'),\n",
      "('Wisconsin', 'WI'), ('Califoria', 'CA'), ('Indiana', 'IN'), \n",
      "('california', 'CA'), ('Denver', 'CO'), ('Dallas', 'TX'), ('South Carolina', 'SC'),\n",
      "('Los Angeles', 'CA'), ('Virginia', 'VA'), ('Missouri', 'MI'), ('Hillsboro', 'OR'),\n",
      "('new york', 'NY'), ('Lauderdale', 'FL'), ('New Mexico', 'NM'), ('Connecticut', 'CT'),\n",
      "('D.C.', 'DC'), ('texas', 'TX')]\n",
      "bay_area_cities = ['Redwood City', 'Menlo Park', 'Mountain View', 'Sunnyvale', 'Stanford', \n",
      "                   'Silicon Valley', 'Berkeley', 'Santa Clara', 'SF Bay', 'san francisco']\n",
      "canada = ['Canada', 'Ontario', 'Markham']\n",
      "asia = ['Hong Kong', 'Japan', 'China']\n",
      "europe = ['France', 'Denmark', 'Austria', 'Zurich', 'Switzerland', 'Germany', 'Finland', \n",
      "          'Netherlands', 'United Kingdom']\n",
      "otherIntl = ['Peru', 'Malawi', 'Chile', 'Uganda', 'Australia']"
     ],
     "language": "python",
     "metadata": {},
     "outputs": [],
     "prompt_number": 579
    },
    {
     "cell_type": "code",
     "collapsed": false,
     "input": [
      "def binLocation(s):\n",
      "    if s.find('San Francisco') != -1:\n",
      "        return 'CA'\n",
      "    for name, abbrev in state_trans:  \n",
      "        if s.find(name) != -1:   return abbrev\n",
      "    for name in bay_area_cities:      \n",
      "        if s.find(name) != -1:   return 'CA'\n",
      "    for name in canada:               \n",
      "        if s.find(name) != -1:   return 'Canada'\n",
      "    for name in asia:                 \n",
      "        if s.find(name) != -1:   return 'Asia'\n",
      "    for name in europe:\n",
      "        if s.find(name) != -1:   return 'Europe'\n",
      "    for name in otherIntl:\n",
      "        if s.find(name) != -1:   return 'otherIntl'\n",
      "    if ',' in s:\n",
      "        state = s.split(',')[-1].strip()\n",
      "        if len(state) == 2:\n",
      "            return state\n",
      "    return 'Other'"
     ],
     "language": "python",
     "metadata": {},
     "outputs": [],
     "prompt_number": 600
    },
    {
     "cell_type": "code",
     "collapsed": false,
     "input": [
      "df['LocationType'] = map(binLocation, df['Location'])"
     ],
     "language": "python",
     "metadata": {},
     "outputs": [],
     "prompt_number": 601
    },
    {
     "cell_type": "code",
     "collapsed": false,
     "input": [
      "g = df.groupby('LocationType')"
     ],
     "language": "python",
     "metadata": {},
     "outputs": [],
     "prompt_number": 606
    },
    {
     "cell_type": "code",
     "collapsed": false,
     "input": [
      "df.to_csv('data.csv', index=False, encoding='utf-8')"
     ],
     "language": "python",
     "metadata": {},
     "outputs": [],
     "prompt_number": 603
    },
    {
     "cell_type": "code",
     "collapsed": false,
     "input": [
      "data_final = []\n",
      "for n, g1 in g:\n",
      "    values = g1['Duration_months'].values\n",
      "    mean_val = np.mean(values)\n",
      "    std_val = np.std(values)\n",
      "    data_final.append( [n, mean_val, std_val, g1['Duration_months'].values] )"
     ],
     "language": "python",
     "metadata": {},
     "outputs": [],
     "prompt_number": 276
    },
    {
     "cell_type": "code",
     "collapsed": false,
     "input": [
      "df1 = pd.DataFrame.from_records(data_final, columns=['JobType', 'mean', 'std', 'Duration_months'])"
     ],
     "language": "python",
     "metadata": {},
     "outputs": [],
     "prompt_number": 277
    },
    {
     "cell_type": "code",
     "collapsed": false,
     "input": [
      "df1"
     ],
     "language": "python",
     "metadata": {},
     "outputs": [
      {
       "html": [
        "<div style=\"max-height:1000px;max-width:1500px;overflow:auto;\">\n",
        "<table border=\"1\" class=\"dataframe\">\n",
        "  <thead>\n",
        "    <tr style=\"text-align: right;\">\n",
        "      <th></th>\n",
        "      <th>JobType</th>\n",
        "      <th>mean</th>\n",
        "      <th>std</th>\n",
        "      <th>Duration_months</th>\n",
        "    </tr>\n",
        "  </thead>\n",
        "  <tbody>\n",
        "    <tr>\n",
        "      <th>0 </th>\n",
        "      <td>     Academia</td>\n",
        "      <td> 1.647436</td>\n",
        "      <td> 1.373262</td>\n",
        "      <td> [0.333333333333, 4.91666666667, 3.08333333333,...</td>\n",
        "    </tr>\n",
        "    <tr>\n",
        "      <th>1 </th>\n",
        "      <td>    Assistant</td>\n",
        "      <td> 1.175926</td>\n",
        "      <td> 1.392465</td>\n",
        "      <td> [-1.0, -1.0, 3.0, 1.33333333333, 0.5, 2.25, 2....</td>\n",
        "    </tr>\n",
        "    <tr>\n",
        "      <th>2 </th>\n",
        "      <td>     Designer</td>\n",
        "      <td> 1.677083</td>\n",
        "      <td> 1.279131</td>\n",
        "      <td> [0.583333333333, 2.41666666667, 0.916666666667...</td>\n",
        "    </tr>\n",
        "    <tr>\n",
        "      <th>3 </th>\n",
        "      <td>     Engineer</td>\n",
        "      <td> 2.734848</td>\n",
        "      <td> 3.544715</td>\n",
        "      <td> [2.91666666667, 3.25, 1.33333333333, 3.6666666...</td>\n",
        "    </tr>\n",
        "    <tr>\n",
        "      <th>4 </th>\n",
        "      <td>      Founder</td>\n",
        "      <td> 2.678571</td>\n",
        "      <td> 2.345812</td>\n",
        "      <td> [0.916666666667, 2.25, 5.0, -1.0, 4.0, 1.33333...</td>\n",
        "    </tr>\n",
        "    <tr>\n",
        "      <th>5 </th>\n",
        "      <td>       Intern</td>\n",
        "      <td> 0.379630</td>\n",
        "      <td> 0.208282</td>\n",
        "      <td> [0.416666666667, 0.25, 0.333333333333, 0.25, 1...</td>\n",
        "    </tr>\n",
        "    <tr>\n",
        "      <th>6 </th>\n",
        "      <td>      Manager</td>\n",
        "      <td> 1.715278</td>\n",
        "      <td> 1.322639</td>\n",
        "      <td> [0.666666666667, 3.58333333333, 1.0, 1.6666666...</td>\n",
        "    </tr>\n",
        "    <tr>\n",
        "      <th>7 </th>\n",
        "      <td>        Other</td>\n",
        "      <td> 2.344749</td>\n",
        "      <td> 2.664358</td>\n",
        "      <td> [0.166666666667, 2.08333333333, 2.58333333333,...</td>\n",
        "    </tr>\n",
        "    <tr>\n",
        "      <th>8 </th>\n",
        "      <td>           PM</td>\n",
        "      <td> 1.770833</td>\n",
        "      <td> 0.497825</td>\n",
        "      <td>         [2.0, 2.0, 2.16666666667, 0.916666666667]</td>\n",
        "    </tr>\n",
        "    <tr>\n",
        "      <th>9 </th>\n",
        "      <td>      Postdoc</td>\n",
        "      <td> 1.720238</td>\n",
        "      <td> 1.157535</td>\n",
        "      <td> [0.25, 0.833333333333, 4.75, 0.333333333333, 2...</td>\n",
        "    </tr>\n",
        "    <tr>\n",
        "      <th>10</th>\n",
        "      <td>     Research</td>\n",
        "      <td> 2.546970</td>\n",
        "      <td> 3.231230</td>\n",
        "      <td> [4.25, 5.33333333333, 4.41666666667, 1.9166666...</td>\n",
        "    </tr>\n",
        "    <tr>\n",
        "      <th>11</th>\n",
        "      <td>    Scientist</td>\n",
        "      <td> 1.402778</td>\n",
        "      <td> 1.080570</td>\n",
        "      <td> [2.91666666667, 1.41666666667, 0.333333333333,...</td>\n",
        "    </tr>\n",
        "    <tr>\n",
        "      <th>12</th>\n",
        "      <td> Software Eng</td>\n",
        "      <td> 2.666667</td>\n",
        "      <td> 2.340267</td>\n",
        "      <td>              [0.25, 5.83333333333, 1.91666666667]</td>\n",
        "    </tr>\n",
        "    <tr>\n",
        "      <th>13</th>\n",
        "      <td>      Student</td>\n",
        "      <td> 3.238636</td>\n",
        "      <td> 2.402295</td>\n",
        "      <td> [2.25, 4.75, 5.0, 5.83333333333, 0.33333333333...</td>\n",
        "    </tr>\n",
        "  </tbody>\n",
        "</table>\n",
        "</div>"
       ],
       "metadata": {},
       "output_type": "pyout",
       "prompt_number": 278,
       "text": [
        "         JobType      mean       std  \\\n",
        "0       Academia  1.647436  1.373262   \n",
        "1      Assistant  1.175926  1.392465   \n",
        "2       Designer  1.677083  1.279131   \n",
        "3       Engineer  2.734848  3.544715   \n",
        "4        Founder  2.678571  2.345812   \n",
        "5         Intern  0.379630  0.208282   \n",
        "6        Manager  1.715278  1.322639   \n",
        "7          Other  2.344749  2.664358   \n",
        "8             PM  1.770833  0.497825   \n",
        "9        Postdoc  1.720238  1.157535   \n",
        "10      Research  2.546970  3.231230   \n",
        "11     Scientist  1.402778  1.080570   \n",
        "12  Software Eng  2.666667  2.340267   \n",
        "13       Student  3.238636  2.402295   \n",
        "\n",
        "                                      Duration_months  \n",
        "0   [0.333333333333, 4.91666666667, 3.08333333333,...  \n",
        "1   [-1.0, -1.0, 3.0, 1.33333333333, 0.5, 2.25, 2....  \n",
        "2   [0.583333333333, 2.41666666667, 0.916666666667...  \n",
        "3   [2.91666666667, 3.25, 1.33333333333, 3.6666666...  \n",
        "4   [0.916666666667, 2.25, 5.0, -1.0, 4.0, 1.33333...  \n",
        "5   [0.416666666667, 0.25, 0.333333333333, 0.25, 1...  \n",
        "6   [0.666666666667, 3.58333333333, 1.0, 1.6666666...  \n",
        "7   [0.166666666667, 2.08333333333, 2.58333333333,...  \n",
        "8           [2.0, 2.0, 2.16666666667, 0.916666666667]  \n",
        "9   [0.25, 0.833333333333, 4.75, 0.333333333333, 2...  \n",
        "10  [4.25, 5.33333333333, 4.41666666667, 1.9166666...  \n",
        "11  [2.91666666667, 1.41666666667, 0.333333333333,...  \n",
        "12               [0.25, 5.83333333333, 1.91666666667]  \n",
        "13  [2.25, 4.75, 5.0, 5.83333333333, 0.33333333333...  "
       ]
      }
     ],
     "prompt_number": 278
    },
    {
     "cell_type": "heading",
     "level": 3,
     "metadata": {},
     "source": [
      "Load json files for current position"
     ]
    },
    {
     "cell_type": "code",
     "collapsed": false,
     "input": [
      "j = json.loads(open('./developher_hackathon2014/data/lauren_data/position_info.json').read())\n",
      "j1 = json.loads(open('./developher_hackathon2014/data/shannon_data/position_info.json').read())\n",
      "j2 = json.loads(open('./developher_hackathon2014/data/kim_data/position_info.json').read())"
     ],
     "language": "python",
     "metadata": {},
     "outputs": [],
     "prompt_number": 367
    },
    {
     "cell_type": "code",
     "collapsed": false,
     "input": [
      "j = j+j1+j2\n",
      "print len(j)"
     ],
     "language": "python",
     "metadata": {},
     "outputs": [
      {
       "output_type": "stream",
       "stream": "stdout",
       "text": [
        "1135\n"
       ]
      }
     ],
     "prompt_number": 369
    },
    {
     "cell_type": "code",
     "collapsed": false,
     "input": [
      "today = datetime.datetime.now()\n",
      "jsondata = []\n",
      "for obj in j:\n",
      "    if 'values' not in obj['positions']:\n",
      "        continue\n",
      "    for pos in obj['positions']['values']:\n",
      "        if pos['isCurrent']:\n",
      "            if 'title' not in pos:\n",
      "                continue\n",
      "            title = pos['title']\n",
      "            if 'name' not in pos['company']: \n",
      "                continue\n",
      "            company = pos['company']['name']\n",
      "            if 'startDate' not in pos:\n",
      "                continue\n",
      "            if 'month' in pos['startDate']:\n",
      "                startDate = str(pos['startDate']['year'])+'/'+str(pos['startDate']['month'])\n",
      "            else:\n",
      "                startDate = str(pos['startDate']['year'])+'/'+'1'\n",
      "            years = (today-dateutil.parser.parse(startDate+'/01')).total_seconds()/3600/24/365.\n",
      "            #print company, title, startDate, years\n",
      "            jsondata.append( [title, company, startDate, years] )"
     ],
     "language": "python",
     "metadata": {},
     "outputs": [],
     "prompt_number": 374
    },
    {
     "cell_type": "code",
     "collapsed": false,
     "input": [
      "len(jsondata)"
     ],
     "language": "python",
     "metadata": {},
     "outputs": [
      {
       "metadata": {},
       "output_type": "pyout",
       "prompt_number": 375,
       "text": [
        "1306"
       ]
      }
     ],
     "prompt_number": 375
    },
    {
     "cell_type": "code",
     "collapsed": false,
     "input": [
      "colnames = ['JobTitle', 'Company', 'StartDate', 'Duration_yr']\n",
      "dfj = pd.DataFrame.from_records(jsondata, columns=colnames)"
     ],
     "language": "python",
     "metadata": {},
     "outputs": [],
     "prompt_number": 376
    },
    {
     "cell_type": "code",
     "collapsed": false,
     "input": [
      "dfj['JobType'] = map(binJobTitle, dfj['JobTitle'])"
     ],
     "language": "python",
     "metadata": {},
     "outputs": [],
     "prompt_number": 377
    },
    {
     "cell_type": "code",
     "collapsed": false,
     "input": [
      "len(dfj[dfj['JobType']=='Other'])"
     ],
     "language": "python",
     "metadata": {},
     "outputs": [
      {
       "metadata": {},
       "output_type": "pyout",
       "prompt_number": 381,
       "text": [
        "628"
       ]
      }
     ],
     "prompt_number": 381
    },
    {
     "cell_type": "code",
     "collapsed": false,
     "input": [
      "dfj.to_csv('datacur_0324.csv', index=False, encoding='utf-8')"
     ],
     "language": "python",
     "metadata": {},
     "outputs": [],
     "prompt_number": 384
    },
    {
     "cell_type": "code",
     "collapsed": false,
     "input": [],
     "language": "python",
     "metadata": {},
     "outputs": []
    }
   ],
   "metadata": {}
  }
 ]
}