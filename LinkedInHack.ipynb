{
 "metadata": {
  "name": "",
  "signature": "sha256:2751e6102e7287d3e328002cff35931d41d39783b861c20443e788e1b67aaf19"
 },
 "nbformat": 3,
 "nbformat_minor": 0,
 "worksheets": [
  {
   "cells": [
    {
     "cell_type": "markdown",
     "metadata": {},
     "source": [
      "How long do people stay at a job? How does this vary by job title and location? A study based on our connection's LinkedIn data.\n",
      "Created for LinkedIn's DevelopHer Hackathon 2014."
     ]
    },
    {
     "cell_type": "code",
     "collapsed": false,
     "input": [
      "%matplotlib inline\n",
      "import requests\n",
      "import string, re\n",
      "import pandas as pd\n",
      "import copy\n",
      "import dateutil, datetime\n",
      "import matplotlib.pyplot as pl\n",
      "import numpy as np"
     ],
     "language": "python",
     "metadata": {},
     "outputs": [],
     "prompt_number": 312
    },
    {
     "cell_type": "code",
     "collapsed": false,
     "input": [
      "# most of this code is from:\n",
      "# http://nbviewer.ipython.org/github/furukama/Mining-the-Social-Web-2nd-Edition/blob/master/ipynb/Chapter%203%20-%20Mining%20LinkedIn.ipynb\n",
      "\n",
      "from linkedin import linkedin # pip install python-linkedin\n",
      "\n",
      "# Define CONSUMER_KEY, CONSUMER_SECRET,  \n",
      "# USER_TOKEN, and USER_SECRET from the credentials \n",
      "# provided in your LinkedIn application\n",
      "\n",
      "\n",
      "RETURN_URL = '' # Not required for developer authentication\n",
      "\n",
      "# Instantiate the developer authentication class\n",
      "auth = linkedin.LinkedInDeveloperAuthentication(CONSUMER_KEY, CONSUMER_SECRET, \n",
      "                                USER_TOKEN, USER_SECRET, \n",
      "                                RETURN_URL, \n",
      "                                permissions=linkedin.PERMISSIONS.enums.values())\n",
      "\n",
      "# Pass it in to the app...\n",
      "app = linkedin.LinkedInApplication(auth)\n",
      "\n",
      "# Use the app...\n",
      "app.get_profile()"
     ],
     "language": "python",
     "metadata": {},
     "outputs": [
      {
       "metadata": {},
       "output_type": "pyout",
       "prompt_number": 761,
       "text": [
        "{u'firstName': u'Shannon',\n",
        " u'headline': u'Senior Process Engineer at Intel Corporation',\n",
        " u'lastName': u'Wang',\n",
        " u'siteStandardProfileRequest': {u'url': u'https://www.linkedin.com/profile/view?id=16892750&authType=name&authToken=kI-T&trk=api*a4152241*s4216481*'}}"
       ]
      }
     ],
     "prompt_number": 761
    },
    {
     "cell_type": "code",
     "collapsed": false,
     "input": [
      "import json\n",
      "\n",
      "connections = app.get_connections()\n",
      "\n",
      "#connections_data = 'linkedin_connections.json'\n",
      "\n",
      "#f = open(connections_data, 'w')\n",
      "#f.write(json.dumps(connections, indent=1))\n",
      "#f.close()\n",
      "\n",
      "# You can reuse the data without using the API later like this...\n",
      "# connections = json.loads(open(connections_data).read())"
     ],
     "language": "python",
     "metadata": {},
     "outputs": [],
     "prompt_number": 762
    },
    {
     "cell_type": "code",
     "collapsed": false,
     "input": [
      "# Execute this cell if you need to reload data...\n",
      "import json\n",
      "connections = json.loads(open('linkedin_connections.json').read())"
     ],
     "language": "python",
     "metadata": {},
     "outputs": [],
     "prompt_number": 7
    },
    {
     "cell_type": "markdown",
     "metadata": {},
     "source": [
      "an example entry"
     ]
    },
    {
     "cell_type": "code",
     "collapsed": false,
     "input": [
      "connections['values'][0]"
     ],
     "language": "python",
     "metadata": {},
     "outputs": [
      {
       "metadata": {},
       "output_type": "pyout",
       "prompt_number": 763,
       "text": [
        "{u'apiStandardProfileRequest': {u'headers': {u'_total': 1,\n",
        "   u'values': [{u'name': u'x-li-auth-token', u'value': u'name:TyNH'}]},\n",
        "  u'url': u'https://api.linkedin.com/v1/people/RiJf4O45WV'},\n",
        " u'firstName': u'Kristina',\n",
        " u'headline': u'Director, People / HRBP, Advisor',\n",
        " u'id': u'RiJf4O45WV',\n",
        " u'industry': u'Human Resources',\n",
        " u'lastName': u'Hathaway',\n",
        " u'location': {u'country': {u'code': u'us'},\n",
        "  u'name': u'San Francisco Bay Area'},\n",
        " u'pictureUrl': u'https://media.licdn.com/mpr/mprx/0_N0TLAXlN_qMgTRCjNMA9AQtcTcDO3RCjn4vsAbCIY-JfOxvg4JldxF9L7MShCp_Avp_ROhyZWaLY',\n",
        " u'siteStandardProfileRequest': {u'url': u'https://www.linkedin.com/profile/view?id=220390&authType=name&authToken=TyNH&trk=api*a4152241*s4216481*'}}"
       ]
      }
     ],
     "prompt_number": 763
    },
    {
     "cell_type": "markdown",
     "metadata": {},
     "source": [
      "test the connection"
     ]
    },
    {
     "cell_type": "code",
     "collapsed": true,
     "input": [
      "connection_id = connections['values'][0]['id']\n",
      "connection_url = app.get_profile(member_id=connection_id, \n",
      "                                   selectors=['public_profile_url']) "
     ],
     "language": "python",
     "metadata": {},
     "outputs": [],
     "prompt_number": 770
    },
    {
     "cell_type": "markdown",
     "metadata": {},
     "source": [
      "run this cell below to get linkedin data. can take a while."
     ]
    },
    {
     "cell_type": "code",
     "collapsed": false,
     "input": [
      "conn_data = {}\n",
      "connection_id = connections['values'][0]['id']\n",
      "for c in connections['values']:\n",
      "    connection_id = c['id']\n",
      "    firstname = c['firstName']\n",
      "    lastname = c['lastName']\n",
      "    try:\n",
      "        connection_url = app.get_profile(member_id=connection_id, \n",
      "                                   selectors=['public_profile_url'])\n",
      "    except Exception, e:\n",
      "        print len(conn_data), e\n",
      "        continue\n",
      "    url = connection_url['publicProfileUrl']\n",
      "    conn_data[connection_id] = {\n",
      "        'firstname': firstname,\n",
      "        'lastname': lastname,\n",
      "        'publicUrl': url\n",
      "     }"
     ],
     "language": "python",
     "metadata": {},
     "outputs": [],
     "prompt_number": 771
    },
    {
     "cell_type": "code",
     "collapsed": false,
     "input": [
      "len(conn_data)"
     ],
     "language": "python",
     "metadata": {},
     "outputs": [
      {
       "metadata": {},
       "output_type": "pyout",
       "prompt_number": 406,
       "text": [
        "76"
       ]
      }
     ],
     "prompt_number": 406
    },
    {
     "cell_type": "markdown",
     "metadata": {},
     "source": [
      "Next we will scrape the public url page for data. this is the regex match string."
     ]
    },
    {
     "cell_type": "code",
     "collapsed": false,
     "input": [
      "matchstring = \"\"\"<h4>(.*?)</h4><h5><a href=\".*?\">(.*?)</a></h5></header><span class=\"experience-date-locale\"><time>(.*?)&#8211;(.*?)\\((.*?)\\).*?<span class=\"locality\">(.*?)</span>\"\"\""
     ],
     "language": "python",
     "metadata": {},
     "outputs": [],
     "prompt_number": 115
    },
    {
     "cell_type": "markdown",
     "metadata": {},
     "source": [
      "Parse all the public url data and create a list of entries. \n",
      "this can take several minutes to run for ~200 contacts."
     ]
    },
    {
     "cell_type": "code",
     "collapsed": false,
     "input": [
      "parseddata = []"
     ],
     "language": "python",
     "metadata": {},
     "outputs": []
    },
    {
     "cell_type": "code",
     "collapsed": false,
     "input": [
      "for urldata in conn_data.values():\n",
      "    url = urldata['publicUrl']\n",
      "    response = requests.get(url)\n",
      "    nStart = string.find(response.text, \"<h3>Experience</h3>\")\n",
      "    nEnd = string.find(response.text, \"<h3>Education</h3>\")\n",
      "    resp = response.text[nStart:nEnd]\n",
      "    if response.status_code == 200:\n",
      "        matches = re.findall(matchstring, resp)\n",
      "        #print len(matches), url\n",
      "        for m in matches:\n",
      "            # clean up\n",
      "            m = list(m)\n",
      "            m[2] = m[2].split('</time>')[0]\n",
      "            m[2] = m[2].strip()\n",
      "            if m[3].find('<time>') != -1:\n",
      "                m[3] = m[3].split('<time>')[1]\n",
      "            if m[3].find('</time>') != -1:\n",
      "                m[3] = m[3].split('</time>')[0]  \n",
      "            m[3] = m[3].strip()\n",
      "            # if any field is too long, then skip\n",
      "            if any([len(field)>200 for field in m]):\n",
      "                continue\n",
      "            parseddata.append(m)"
     ],
     "language": "python",
     "metadata": {},
     "outputs": [],
     "prompt_number": 407
    },
    {
     "cell_type": "code",
     "collapsed": false,
     "input": [
      "len(parseddata)"
     ],
     "language": "python",
     "metadata": {},
     "outputs": [
      {
       "metadata": {},
       "output_type": "pyout",
       "prompt_number": 765,
       "text": [
        "488"
       ]
      }
     ],
     "prompt_number": 765
    },
    {
     "cell_type": "code",
     "collapsed": false,
     "input": [
      "import pickle\n",
      "f = open('parseddata.pkl', 'w')\n",
      "pickle.dump(parseddata, f)\n",
      "f.close()"
     ],
     "language": "python",
     "metadata": {},
     "outputs": [],
     "prompt_number": 768
    },
    {
     "cell_type": "code",
     "collapsed": false,
     "input": [
      "# look at some example data\n",
      "parseddata[0:3]"
     ],
     "language": "python",
     "metadata": {},
     "outputs": [
      {
       "metadata": {},
       "output_type": "pyout",
       "prompt_number": 773,
       "text": [
        "[[u'Graduate Research Assistant',\n",
        "  u'Vuletic Group, Department of Physics, Massachusetts Institute of Technology',\n",
        "  u'September 2010',\n",
        "  u'Present',\n",
        "  u'4 years 3 months',\n",
        "  u'Holmdel, NJ'],\n",
        " [u'Founder &amp; CEO',\n",
        "  u'LEIA Inc.',\n",
        "  u'January 2014',\n",
        "  u'Present',\n",
        "  u'11 months',\n",
        "  u'Menlo Park, CA'],\n",
        " [u'User Experience Designer',\n",
        "  u'Intertrust Technologies Corporation',\n",
        "  u'May 2014',\n",
        "  u'Present',\n",
        "  u'7 months',\n",
        "  u'San Francisco Bay Area']]"
       ]
      }
     ],
     "prompt_number": 773
    },
    {
     "cell_type": "markdown",
     "metadata": {},
     "source": [
      "create DataFrame, create additional columns (duration, job title, location) and save to csv"
     ]
    },
    {
     "cell_type": "code",
     "collapsed": false,
     "input": [
      "colnames = ['JobTitle', 'Company', 'StartDate', 'EndDate', 'Duration', 'Location']\n",
      "df = pd.DataFrame.from_records(parseddata, columns=colnames)"
     ],
     "language": "python",
     "metadata": {},
     "outputs": [],
     "prompt_number": 409
    },
    {
     "cell_type": "code",
     "collapsed": false,
     "input": [
      "def parseDuration(s):\n",
      "    if s == 'less than a year': \n",
      "        return -1\n",
      "    if s.find('year') != -1:\n",
      "        yr = s.split(' ')[0]\n",
      "    else:\n",
      "        yr = '0'\n",
      "    if s.find('month') != -1:\n",
      "        mo_part = s.split('month')[0]\n",
      "        mo = mo_part.strip().split(' ')[-1]\n",
      "    else:\n",
      "        mo = 0\n",
      "    dur = float(yr) + float(mo)/12.\n",
      "    return dur"
     ],
     "language": "python",
     "metadata": {},
     "outputs": [],
     "prompt_number": 193
    },
    {
     "cell_type": "code",
     "collapsed": false,
     "input": [
      "df['Duration_yr'] = map(parseDuration, df['Duration'])"
     ],
     "language": "python",
     "metadata": {},
     "outputs": [],
     "prompt_number": 410
    },
    {
     "cell_type": "code",
     "collapsed": false,
     "input": [
      "def binJobTitle(s):\n",
      "    tags = [\n",
      "        ('ntern', 'Intern'), ('Student', 'Student'), ('PhD', 'Student'),\n",
      "        ('Research', 'Research'), \n",
      "        ('Program Manager', 'PM'), \n",
      "        ('Postdoc', 'Postdoc'), ('Post-doc', 'Postdoc'), \n",
      "        ('Software', 'Software Eng'),\n",
      "        ('Project Manager', 'PM'), ('ounder', 'Founder'), ('Designer', 'Designer'), \n",
      "        ('Engineer', 'Engineer'),\n",
      "        ('Lecturer', 'Academia'), ('Professor', 'Academia'), ('Instructor', 'Academia'),\n",
      "        ('Manager', 'Manager'),\n",
      "        ('Physic', 'Scientist'), ('Chemist', 'Scientist'), ('Scientist', 'Scientist'),\n",
      "        ('Assistant', 'Assistant'), \n",
      "        ('Consultant', 'Consultant'), ('CEO', 'CEO')\n",
      "    ]\n",
      "    for keyword, title in tags:\n",
      "        if s.find(keyword) != -1:\n",
      "            return title\n",
      "    return 'Other'"
     ],
     "language": "python",
     "metadata": {},
     "outputs": [],
     "prompt_number": 362
    },
    {
     "cell_type": "code",
     "collapsed": false,
     "input": [
      "df['JobType'] = map(binJobTitle, df['JobTitle'])"
     ],
     "language": "python",
     "metadata": {},
     "outputs": [],
     "prompt_number": 412
    },
    {
     "cell_type": "code",
     "collapsed": false,
     "input": [
      "state_trans = [('Oregon', 'OR'), ('Ohio', 'OH'), ('Louis', 'MO'), ('Boston', 'MA'), \n",
      "('California', 'CA'), ('New York', 'NY'), ('San Diego', 'CA'), ('Michigan', 'MI'), ('Chicago', 'IL'),\n",
      "('Massachusetts', 'MA'), ('Texas', 'TX'), ('Arizona', 'AZ'), ('Seattle', 'WA'), ('llinois', 'IL'),\n",
      "('Wisconsin', 'WI'), ('Califoria', 'CA'), ('Indiana', 'IN'), \n",
      "('california', 'CA'), ('Denver', 'CO'), ('Dallas', 'TX'), ('South Carolina', 'SC'),\n",
      "('Los Angeles', 'CA'), ('Virginia', 'VA'), ('Missouri', 'Midwest'), ('Hillsboro', 'OR'),\n",
      "('new york', 'NY'), ('Lauderdale', 'FL'), ('New Mexico', 'NM'), ('Connecticut', 'CT'),\n",
      "('D.C.', 'DC'), ('texas', 'TX')]\n",
      "bay_area_cities = ['Redwood City', 'Menlo Park', 'Mountain View', 'Sunnyvale', 'Stanford', \n",
      "                   'Silicon Valley', 'Berkeley', 'Santa Clara', 'SF Bay', 'san francisco']\n",
      "midwest = ['KS', 'MO', 'MI', 'IL', 'OH', 'WI', 'SD', 'ID', 'IN', 'IA', 'MN', 'NE']\n",
      "southwest = ['AZ', 'NM', 'AK', 'CO', 'LO', 'AR', 'LA', 'MT', 'ND', 'OK', 'SD', 'TX', 'UT', 'WY']\n",
      "south = ['GA', 'AL', 'FL', 'MS', 'SC', 'NC', 'TN', 'KY', 'VA']\n",
      "northeast = ['RI', 'CT', 'NH', 'VT', 'ME', 'NJ', 'PA', 'MD', 'DC']\n",
      "northwest = ['WA', 'OR', 'ID']\n",
      "canada = ['Canada', 'Ontario', 'Markham', 'AB', 'BC']\n",
      "asia = ['Hong Kong', 'Japan', 'China']\n",
      "europe = ['France', 'Denmark', 'Austria', 'Zurich', 'Switzerland', 'Germany', 'Finland', \n",
      "          'Netherlands', 'United Kingdom', 'UK']\n",
      "otherIntl = ['Peru', 'Malawi', 'Chile', 'Uganda', 'Australia']"
     ],
     "language": "python",
     "metadata": {},
     "outputs": [],
     "prompt_number": 728
    },
    {
     "cell_type": "code",
     "collapsed": false,
     "input": [
      "# a terribly hacky location translator. Note that the order of if's are important!\n",
      "def binLocation(s):\n",
      "    if s.find(', USA') != -1: s = s.split(', USA')[0]\n",
      "    state = ''\n",
      "    if s.find('San Francisco') != -1:\n",
      "        return 'CA'\n",
      "    for name, abbrev in state_trans:  \n",
      "        if s.find(name) != -1:   \n",
      "            #print \"found:\",  name, abbrev\n",
      "            state = abbrev\n",
      "            break\n",
      "    #print \"result: \", name, abbrev, state\n",
      "    for name in bay_area_cities:      \n",
      "        if s.find(name) != -1:   return 'CA'\n",
      "    for name in canada:               \n",
      "        if s.find(name) != -1:   return 'Canada'\n",
      "    for name in asia:                 \n",
      "        if s.find(name) != -1:   return 'Asia'\n",
      "    for name in europe:\n",
      "        if s.find(name) != -1:   return 'Europe'\n",
      "    for name in otherIntl:\n",
      "        if s.find(name) != -1:   return 'otherIntl'\n",
      "    if ',' in s:\n",
      "        state_candidate = s.split(',')[-1].strip()\n",
      "        if len(state_candidate) == 2:\n",
      "            state = state_candidate\n",
      "    if state in midwest: return 'Midwest'\n",
      "    if state in southwest: return 'Southwest'\n",
      "    if state in south: return 'South'\n",
      "    if state in northeast: return 'Northeast'  \n",
      "    if state in northwest: return 'Northwest'  \n",
      "    if state == '': return 'Unknown' \n",
      "    else: return state"
     ],
     "language": "python",
     "metadata": {},
     "outputs": [],
     "prompt_number": 729
    },
    {
     "cell_type": "code",
     "collapsed": false,
     "input": [
      "df['LocationType'] = map(binLocation, df['Location'])"
     ],
     "language": "python",
     "metadata": {},
     "outputs": [],
     "prompt_number": 734
    },
    {
     "cell_type": "code",
     "collapsed": false,
     "input": [
      "g = df.groupby('LocationType')\n",
      "g.size()"
     ],
     "language": "python",
     "metadata": {},
     "outputs": [
      {
       "metadata": {},
       "output_type": "pyout",
       "prompt_number": 732,
       "text": [
        "LocationType\n",
        "Asia              5\n",
        "CA              143\n",
        "Canada           68\n",
        "Europe           23\n",
        "MA               65\n",
        "Midwest          40\n",
        "NY               23\n",
        "Northeast        25\n",
        "Northwest        13\n",
        "South            18\n",
        "Southwest        33\n",
        "Unknown          25\n",
        "otherIntl         7\n",
        "dtype: int64"
       ]
      }
     ],
     "prompt_number": 732
    },
    {
     "cell_type": "code",
     "collapsed": false,
     "input": [
      "df.to_csv('data.csv', index=False, encoding='utf-8')"
     ],
     "language": "python",
     "metadata": {},
     "outputs": [],
     "prompt_number": 735
    },
    {
     "cell_type": "code",
     "collapsed": false,
     "input": [
      "df[0:3]"
     ],
     "language": "python",
     "metadata": {},
     "outputs": [
      {
       "html": [
        "<div style=\"max-height:1000px;max-width:1500px;overflow:auto;\">\n",
        "<table border=\"1\" class=\"dataframe\">\n",
        "  <thead>\n",
        "    <tr style=\"text-align: right;\">\n",
        "      <th></th>\n",
        "      <th>JobTitle</th>\n",
        "      <th>Company</th>\n",
        "      <th>StartDate</th>\n",
        "      <th>EndDate</th>\n",
        "      <th>Duration</th>\n",
        "      <th>Location</th>\n",
        "      <th>Duration_yr</th>\n",
        "      <th>JobType</th>\n",
        "      <th>LocationType</th>\n",
        "    </tr>\n",
        "  </thead>\n",
        "  <tbody>\n",
        "    <tr>\n",
        "      <th>0</th>\n",
        "      <td> Graduate Research Assistant</td>\n",
        "      <td> Vuletic Group, Department of Physics, Massachu...</td>\n",
        "      <td> September 2010</td>\n",
        "      <td> Present</td>\n",
        "      <td> 4 years 3 months</td>\n",
        "      <td>            Holmdel, NJ</td>\n",
        "      <td> 4.250000</td>\n",
        "      <td> Research</td>\n",
        "      <td> Northeast</td>\n",
        "    </tr>\n",
        "    <tr>\n",
        "      <th>1</th>\n",
        "      <td>           Founder &amp;amp; CEO</td>\n",
        "      <td>                                         LEIA Inc.</td>\n",
        "      <td>   January 2014</td>\n",
        "      <td> Present</td>\n",
        "      <td>        11 months</td>\n",
        "      <td>         Menlo Park, CA</td>\n",
        "      <td> 0.916667</td>\n",
        "      <td>  Founder</td>\n",
        "      <td>        CA</td>\n",
        "    </tr>\n",
        "    <tr>\n",
        "      <th>2</th>\n",
        "      <td>    User Experience Designer</td>\n",
        "      <td>               Intertrust Technologies Corporation</td>\n",
        "      <td>       May 2014</td>\n",
        "      <td> Present</td>\n",
        "      <td>         7 months</td>\n",
        "      <td> San Francisco Bay Area</td>\n",
        "      <td> 0.583333</td>\n",
        "      <td> Designer</td>\n",
        "      <td>        CA</td>\n",
        "    </tr>\n",
        "  </tbody>\n",
        "</table>\n",
        "</div>"
       ],
       "metadata": {},
       "output_type": "pyout",
       "prompt_number": 774,
       "text": [
        "                      JobTitle  \\\n",
        "0  Graduate Research Assistant   \n",
        "1            Founder &amp; CEO   \n",
        "2     User Experience Designer   \n",
        "\n",
        "                                             Company       StartDate  EndDate  \\\n",
        "0  Vuletic Group, Department of Physics, Massachu...  September 2010  Present   \n",
        "1                                          LEIA Inc.    January 2014  Present   \n",
        "2                Intertrust Technologies Corporation        May 2014  Present   \n",
        "\n",
        "           Duration                Location  Duration_yr   JobType  \\\n",
        "0  4 years 3 months             Holmdel, NJ     4.250000  Research   \n",
        "1         11 months          Menlo Park, CA     0.916667   Founder   \n",
        "2          7 months  San Francisco Bay Area     0.583333  Designer   \n",
        "\n",
        "  LocationType  \n",
        "0    Northeast  \n",
        "1           CA  \n",
        "2           CA  "
       ]
      }
     ],
     "prompt_number": 774
    },
    {
     "cell_type": "heading",
     "level": 3,
     "metadata": {},
     "source": [
      "Load json files for current position and calculate duration up to now."
     ]
    },
    {
     "cell_type": "code",
     "collapsed": false,
     "input": [
      "j = json.loads(open('./developher_hackathon2014/data/lauren_data/position_info.json').read())\n",
      "j1 = json.loads(open('./developher_hackathon2014/data/shannon_data/position_info.json').read())\n",
      "j2 = json.loads(open('./developher_hackathon2014/data/kim_data/position_info.json').read())"
     ],
     "language": "python",
     "metadata": {},
     "outputs": [],
     "prompt_number": 367
    },
    {
     "cell_type": "code",
     "collapsed": false,
     "input": [
      "j = j+j1+j2\n",
      "print len(j)"
     ],
     "language": "python",
     "metadata": {},
     "outputs": [
      {
       "output_type": "stream",
       "stream": "stdout",
       "text": [
        "1135\n"
       ]
      }
     ],
     "prompt_number": 369
    },
    {
     "cell_type": "code",
     "collapsed": false,
     "input": [
      "today = datetime.datetime.now()\n",
      "jsondata = []\n",
      "for obj in j:\n",
      "    if 'values' not in obj['positions']:\n",
      "        continue\n",
      "    for pos in obj['positions']['values']:\n",
      "        if pos['isCurrent']:\n",
      "            if 'title' not in pos:\n",
      "                continue\n",
      "            title = pos['title']\n",
      "            if 'name' not in pos['company']: \n",
      "                continue\n",
      "            company = pos['company']['name']\n",
      "            if 'startDate' not in pos:\n",
      "                continue\n",
      "            if 'month' in pos['startDate']:\n",
      "                startDate = str(pos['startDate']['year'])+'/'+str(pos['startDate']['month'])\n",
      "            else:\n",
      "                startDate = str(pos['startDate']['year'])+'/'+'1'\n",
      "            years = (today-dateutil.parser.parse(startDate+'/01')).total_seconds()/3600/24/365.\n",
      "            #print company, title, startDate, years\n",
      "            jsondata.append( [title, company, startDate, years] )"
     ],
     "language": "python",
     "metadata": {},
     "outputs": [],
     "prompt_number": 374
    },
    {
     "cell_type": "code",
     "collapsed": false,
     "input": [
      "len(jsondata)"
     ],
     "language": "python",
     "metadata": {},
     "outputs": [
      {
       "metadata": {},
       "output_type": "pyout",
       "prompt_number": 375,
       "text": [
        "1306"
       ]
      }
     ],
     "prompt_number": 375
    },
    {
     "cell_type": "code",
     "collapsed": false,
     "input": [
      "colnames = ['JobTitle', 'Company', 'StartDate', 'Duration_yr']\n",
      "dfj = pd.DataFrame.from_records(jsondata, columns=colnames)"
     ],
     "language": "python",
     "metadata": {},
     "outputs": [],
     "prompt_number": 376
    },
    {
     "cell_type": "code",
     "collapsed": false,
     "input": [
      "dfj['JobType'] = map(binJobTitle, dfj['JobTitle'])"
     ],
     "language": "python",
     "metadata": {},
     "outputs": [],
     "prompt_number": 377
    },
    {
     "cell_type": "code",
     "collapsed": false,
     "input": [
      "len(dfj[dfj['JobType']=='Other'])"
     ],
     "language": "python",
     "metadata": {},
     "outputs": [
      {
       "metadata": {},
       "output_type": "pyout",
       "prompt_number": 381,
       "text": [
        "628"
       ]
      }
     ],
     "prompt_number": 381
    },
    {
     "cell_type": "code",
     "collapsed": false,
     "input": [
      "dfj.to_csv('datacur_0324.csv', index=False, encoding='utf-8')"
     ],
     "language": "python",
     "metadata": {},
     "outputs": [],
     "prompt_number": 384
    },
    {
     "cell_type": "code",
     "collapsed": false,
     "input": [],
     "language": "python",
     "metadata": {},
     "outputs": []
    }
   ],
   "metadata": {}
  }
 ]
}