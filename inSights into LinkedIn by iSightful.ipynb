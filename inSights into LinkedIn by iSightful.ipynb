{
 "metadata": {
  "name": "",
  "signature": "sha256:adc4074cc08d722ba77dae2cbf5e6eaf815600793d095142a2c87df00faaf534"
 },
 "nbformat": 3,
 "nbformat_minor": 0,
 "worksheets": [
  {
   "cells": [
    {
     "cell_type": "heading",
     "level": 1,
     "metadata": {},
     "source": [
      "How frequently do LinkedIn users switch jobs?"
     ]
    },
    {
     "cell_type": "heading",
     "level": 2,
     "metadata": {},
     "source": [
      "Meet the Team"
     ]
    },
    {
     "cell_type": "markdown",
     "metadata": {},
     "source": [
      "Lauren Chircus  \n",
      "Annie Kwon  \n",
      "Ping T  \n",
      "Shannon Wang  \n",
      "Kim Wong  "
     ]
    },
    {
     "cell_type": "heading",
     "level": 2,
     "metadata": {},
     "source": [
      "Why?"
     ]
    },
    {
     "cell_type": "markdown",
     "metadata": {},
     "source": [
      "We really wanted to know how long people stay at their jobs, and we hypothesized that the duration of job tenure would vary with industry or geographical location."
     ]
    },
    {
     "cell_type": "heading",
     "level": 2,
     "metadata": {},
     "source": [
      "How?"
     ]
    },
    {
     "cell_type": "markdown",
     "metadata": {},
     "source": [
      "Well, we wanted to use the corpus of LinkedIn data, but despite sitting in the lounge of LinkedIn's beautiful new building in Sunnyvale, we were out of luck unless we wanted to submit a request and wait 3 weeks to hear if we'd get access. Since that didn't fit into the <24 hour window of the DevelopHer 2014 Hackathon, we decided to go with the data we could get on our own instead.  \n",
      "  \n",
      "We realize that this left us with a really skewed dataset. We know. Just go with it.  "
     ]
    },
    {
     "cell_type": "heading",
     "level": 3,
     "metadata": {},
     "source": [
      "Collecting data with the LinkedIn API"
     ]
    },
    {
     "cell_type": "markdown",
     "metadata": {},
     "source": [
      "We all worked through the tutorial at <https://github.com/ptwobrussell/Mining-the-Social-Web-2nd-Edition/blob/master/ipynb/Chapter%203%20-%20Mining%20LinkedIn.ipynb> to learn how to access the LinkedIn People API through Python with the python-linkedin package.  \n",
      "  \n",
      "Lauren, Shannon, and Kim downloaded the basic information and current positions of all their first degree connections using what they learned. Lauren compiled a quick python script available at <https://github.com/lchircus/developher_hackathon2014/blob/master/data/linkedin_api_getdata.py> to get the data and dump it into JSON files.  \n",
      "  \n",
      "Basic profile data available via the API didn't allow us to collect past employment information, so Shannon scraped public profiles for this information (see her approach here: <https://github.com/lchircus/developher_hackathon2014/blob/master/LinkedInHack.ipynb>)."
     ]
    },
    {
     "cell_type": "heading",
     "level": 3,
     "metadata": {},
     "source": [
      "Coercing data into pandas data frames"
     ]
    },
    {
     "cell_type": "markdown",
     "metadata": {},
     "source": [
      "You can also find Shannon's approach to transforming the JSON data into CSV formats in the aforementioned ipython notebook. Thanks to this coersion, we can begin to explore the data using numpy, pandas, and plotly."
     ]
    },
    {
     "cell_type": "code",
     "collapsed": false,
     "input": [
      "# Impore all necessary modules to run\n",
      "\n",
      "import pandas\n",
      "import numpy\n",
      "\n",
      "import plotly.plotly as py\n",
      "from plotly.graph_objs import *\n",
      "import plotly.tools as tls\n",
      "\n",
      "# This allows us to use the plotly API for data visualization\n",
      "tls.set_credentials_file(\n",
      "        username=\"\", \n",
      "        api_key=\"\")\n",
      "\n",
      "%pylab"
     ],
     "language": "python",
     "metadata": {},
     "outputs": [
      {
       "output_type": "stream",
       "stream": "stdout",
       "text": [
        "Using matplotlib backend: MacOSX\n",
        "Populating the interactive namespace from numpy and matplotlib\n"
       ]
      },
      {
       "output_type": "stream",
       "stream": "stderr",
       "text": [
        "WARNING: pylab import has clobbered these variables: ['Figure', 'Annotation']\n",
        "`%matplotlib` prevents importing * from pylab and numpy\n"
       ]
      }
     ],
     "prompt_number": 2
    },
    {
     "cell_type": "heading",
     "level": 4,
     "metadata": {},
     "source": [
      "Data format"
     ]
    },
    {
     "cell_type": "markdown",
     "metadata": {},
     "source": [
      "We chose to use **pandas** data frames to store and manipulate the data since because the data is inherently tabular. Checkout the historical jobs data below!"
     ]
    },
    {
     "cell_type": "code",
     "collapsed": false,
     "input": [
      "# Read in csv file\n",
      "jobs = pandas.read_csv('data/data.csv')\n",
      "\n",
      "# remove people who have been assigned negative duration values - these positions existed for a period of time we could not calculate\n",
      "jobs = jobs[jobs.Duration_yr >= 0]\n",
      "\n",
      "# remove jobs that are ongoing\n",
      "jobs = jobs[jobs.EndDate != 'Present']\n",
      "jobs.head()"
     ],
     "language": "python",
     "metadata": {},
     "outputs": [
      {
       "html": [
        "<div style=\"max-height:1000px;max-width:1500px;overflow:auto;\">\n",
        "<table border=\"1\" class=\"dataframe\">\n",
        "  <thead>\n",
        "    <tr style=\"text-align: right;\">\n",
        "      <th></th>\n",
        "      <th>JobTitle</th>\n",
        "      <th>Company</th>\n",
        "      <th>StartDate</th>\n",
        "      <th>EndDate</th>\n",
        "      <th>Duration</th>\n",
        "      <th>Location</th>\n",
        "      <th>Duration_yr</th>\n",
        "      <th>JobType</th>\n",
        "      <th>LocationType</th>\n",
        "    </tr>\n",
        "  </thead>\n",
        "  <tbody>\n",
        "    <tr>\n",
        "      <th>3</th>\n",
        "      <td>            Visual Designer</td>\n",
        "      <td>     Good World Media</td>\n",
        "      <td>      July 2011</td>\n",
        "      <td>  November 2013</td>\n",
        "      <td> 2 years 5 months</td>\n",
        "      <td>               New York</td>\n",
        "      <td> 2.416667</td>\n",
        "      <td> Designer</td>\n",
        "      <td> NY</td>\n",
        "    </tr>\n",
        "    <tr>\n",
        "      <th>4</th>\n",
        "      <td>       Visual Design Intern</td>\n",
        "      <td>                 CIBO</td>\n",
        "      <td>   January 2013</td>\n",
        "      <td>       May 2013</td>\n",
        "      <td>         5 months</td>\n",
        "      <td> San Francisco Bay Area</td>\n",
        "      <td> 0.416667</td>\n",
        "      <td>   Intern</td>\n",
        "      <td> CA</td>\n",
        "    </tr>\n",
        "    <tr>\n",
        "      <th>5</th>\n",
        "      <td>  Interactive Design Intern</td>\n",
        "      <td>            remind101</td>\n",
        "      <td>      July 2012</td>\n",
        "      <td> September 2012</td>\n",
        "      <td>         3 months</td>\n",
        "      <td> San Francisco Bay Area</td>\n",
        "      <td> 0.250000</td>\n",
        "      <td>   Intern</td>\n",
        "      <td> CA</td>\n",
        "    </tr>\n",
        "    <tr>\n",
        "      <th>6</th>\n",
        "      <td>            Junior Designer</td>\n",
        "      <td> The Shotwell Company</td>\n",
        "      <td> September 2011</td>\n",
        "      <td>      July 2012</td>\n",
        "      <td>        11 months</td>\n",
        "      <td> San Francisco Bay Area</td>\n",
        "      <td> 0.916667</td>\n",
        "      <td> Designer</td>\n",
        "      <td> CA</td>\n",
        "    </tr>\n",
        "    <tr>\n",
        "      <th>7</th>\n",
        "      <td> Marketing and Print Intern</td>\n",
        "      <td>             Club One</td>\n",
        "      <td> September 2011</td>\n",
        "      <td>  December 2011</td>\n",
        "      <td>         4 months</td>\n",
        "      <td> San Francisco Bay Area</td>\n",
        "      <td> 0.333333</td>\n",
        "      <td>   Intern</td>\n",
        "      <td> CA</td>\n",
        "    </tr>\n",
        "  </tbody>\n",
        "</table>\n",
        "</div>"
       ],
       "metadata": {},
       "output_type": "pyout",
       "prompt_number": 6,
       "text": [
        "                     JobTitle               Company       StartDate  \\\n",
        "3             Visual Designer      Good World Media       July 2011   \n",
        "4        Visual Design Intern                  CIBO    January 2013   \n",
        "5   Interactive Design Intern             remind101       July 2012   \n",
        "6             Junior Designer  The Shotwell Company  September 2011   \n",
        "7  Marketing and Print Intern              Club One  September 2011   \n",
        "\n",
        "          EndDate          Duration                Location  Duration_yr  \\\n",
        "3   November 2013  2 years 5 months                New York     2.416667   \n",
        "4        May 2013          5 months  San Francisco Bay Area     0.416667   \n",
        "5  September 2012          3 months  San Francisco Bay Area     0.250000   \n",
        "6       July 2012         11 months  San Francisco Bay Area     0.916667   \n",
        "7   December 2011          4 months  San Francisco Bay Area     0.333333   \n",
        "\n",
        "    JobType LocationType  \n",
        "3  Designer           NY  \n",
        "4    Intern           CA  \n",
        "5    Intern           CA  \n",
        "6  Designer           CA  \n",
        "7    Intern           CA  "
       ]
      }
     ],
     "prompt_number": 6
    },
    {
     "cell_type": "code",
     "collapsed": false,
     "input": [],
     "language": "python",
     "metadata": {},
     "outputs": []
    }
   ],
   "metadata": {}
  }
 ]
}