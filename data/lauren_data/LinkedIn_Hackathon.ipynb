{
 "metadata": {
  "name": "",
  "signature": "sha256:6954d3cb5d2303f557eb7e5daf2c21c9d66436bfc450cce28fdbfcfc733de670"
 },
 "nbformat": 3,
 "nbformat_minor": 0,
 "worksheets": [
  {
   "cells": [
    {
     "cell_type": "code",
     "collapsed": false,
     "input": [
      "from linkedin import linkedin # pip install python-linkedin\n",
      "\n",
      "# Define CONSUMER_KEY, CONSUMER_SECRET,  \n",
      "# USER_TOKEN, and USER_SECRET from the credentials \n",
      "# provided in your LinkedIn application\n",
      "\n",
      "CONSUMER_KEY = '75cwan0ap4cxjw'\n",
      "CONSUMER_SECRET = '1RNJ1lrtFv615XWW'\n",
      "USER_TOKEN = '0fe62a6d-8c8a-4de4-93de-d165ebfa251e'\n",
      "USER_SECRET = '1951a924-ec65-45a0-9ad0-f41e3988f31b'\n",
      "\n",
      "RETURN_URL = 'http://localhost:8000' # Not required for developer authentication\n",
      "\n",
      "# Instantiate the developer authentication class\n",
      "\n",
      "auth = linkedin.LinkedInDeveloperAuthentication(CONSUMER_KEY, CONSUMER_SECRET, \n",
      "                                USER_TOKEN, USER_SECRET, \n",
      "                                RETURN_URL, \n",
      "                                permissions=linkedin.PERMISSIONS.enums.values())\n",
      "\n",
      "# Pass it in to the app...\n",
      "\n",
      "app = linkedin.LinkedInApplication(auth)\n",
      "\n",
      "# Use the app...\n",
      "\n",
      "app.get_profile()"
     ],
     "language": "python",
     "metadata": {},
     "outputs": [
      {
       "metadata": {},
       "output_type": "pyout",
       "prompt_number": 39,
       "text": [
        "{u'firstName': u'Lauren',\n",
        " u'headline': u'Ph.D. Candidate in Chemical and Systems Biology at Stanford University School of Medicine',\n",
        " u'lastName': u'Chircus',\n",
        " u'siteStandardProfileRequest': {u'url': u'https://www.linkedin.com/profile/view?id=32787140&authType=name&authToken=aJLF&trk=api*a4161971*s4226131*'}}"
       ]
      }
     ],
     "prompt_number": 39
    },
    {
     "cell_type": "code",
     "collapsed": false,
     "input": [
      "# Execute this cell if you need to reload data...\n",
      "import json\n",
      "connections = json.loads(open('resources/ch03-linkedin/linkedin_connections.json').read())"
     ],
     "language": "python",
     "metadata": {},
     "outputs": [],
     "prompt_number": 37
    },
    {
     "cell_type": "code",
     "collapsed": false,
     "input": [
      "# See http://developer.linkedin.com/documents/profile-fields#fullprofile\n",
      "# for details on additional field selectors that can be passed in for\n",
      "# retrieving additional profile information.\n",
      "\n",
      "# Display your own positions...\n",
      "\n",
      "'''\n",
      "my_positions = app.get_profile(selectors=['positions'])\n",
      "print json.dumps(my_positions, indent=1)\n",
      "'''\n",
      "\n",
      "# Display positions for someone in your network...\n",
      "\n",
      "# Get an id for a connection. We'll just pick the first one.\n",
      "\n",
      "'''\n",
      "for i in range(len(connections['values'])):\n",
      "    print connections['values'][i]['id']\n",
      "'''\n",
      "connection_positions = app.get_profile(member_id=connections['values'][0]['id'], \n",
      "                                       selectors=['positions'])\n",
      "#print json.dumps(connection_positions, indent=1)\n",
      "print connection_positions\n"
     ],
     "language": "python",
     "metadata": {},
     "outputs": [
      {
       "output_type": "stream",
       "stream": "stdout",
       "text": [
        "{u'positions': {u'_total': 2, u'values': [{u'startDate': {u'year': 2011, u'month': 10}, u'title': u'Research Analyst and Grants Coordinator', u'company': {u'id': 108335, u'name': u'TEC Edmonton'}, u'summary': u'\\u2022\\tCoordinate grant activities for TEC Edmonton and collaborate with TEC Edmonton senior management staff to secure ongoing and new funding for TEC Edmonton\\n\\u2022\\tResearch non-dilutive funding programs, other non-traditional funding sources and third-party technology development and commercialization programs that can be leveraged and/or accessed directly by TEC Edmonton clients and.\\n\\u2022\\tProvide assistance to develop non-dilutive funding strategies for TEC portfolio clients.', u'isCurrent': True, u'id': 221974900}, {u'startDate': {u'year': 2011, u'month': 7}, u'title': u'Editor', u'company': {u'name': u'MetaboNews'}, u'summary': u'MetaboNews is a free, monthly newsletter for the worldwide metabolomics community, produced by The Metabolomics Innovation Centre (TMIC, http://www.metabolomicscentre.ca/). This newsletter is intended to is intended to keep metabolomics researchers and other professionals informed about new technologies, software, databases, events, job postings, conferences, training opportunities, interviews, publications, awards, and other newsworthy items concerning metabolomics.\\n\\nMetaboNews website: http://www.metabonews.ca', u'isCurrent': True, u'id': 214890495}]}}\n"
       ]
      }
     ],
     "prompt_number": 56
    },
    {
     "cell_type": "code",
     "collapsed": false,
     "input": [
      "DATA_FILENAME = 'position_info.json'\n",
      "\n",
      "feeds = []\n",
      "with open(DATA_FILENAME, mode='w') as feedsjson:\n",
      "        for i in range(len(connections['values'])):\n",
      "            if connections['values'][i]['id'] != 'private':\n",
      "                connections['values'][i]['id']\n",
      "                connection_positions = app.get_profile(member_id=connections['values'][i]['id'], \n",
      "                                       selectors=['positions','id'])\n",
      "                feeds.append(connection_positions)\n",
      "        json.dump(feeds, feedsjson)"
     ],
     "language": "python",
     "metadata": {},
     "outputs": [],
     "prompt_number": 65
    },
    {
     "cell_type": "code",
     "collapsed": false,
     "input": [
      "feed"
     ],
     "language": "python",
     "metadata": {},
     "outputs": [
      {
       "metadata": {},
       "output_type": "pyout",
       "prompt_number": 53,
       "text": [
        "425"
       ]
      }
     ],
     "prompt_number": 53
    },
    {
     "cell_type": "code",
     "collapsed": false,
     "input": [
      "import pandas"
     ],
     "language": "python",
     "metadata": {},
     "outputs": [],
     "prompt_number": 2
    },
    {
     "cell_type": "code",
     "collapsed": false,
     "input": [
      "connections = pandas.io.json.read_json('resources/ch03-linkedin/linkedin_connections.json')\n",
      "connections = pandas.io.json.json_normalize(connections['values'])"
     ],
     "language": "python",
     "metadata": {},
     "outputs": [],
     "prompt_number": 12
    },
    {
     "cell_type": "code",
     "collapsed": false,
     "input": [
      "connections.head()"
     ],
     "language": "python",
     "metadata": {},
     "outputs": [
      {
       "html": [
        "<div style=\"max-height:1000px;max-width:1500px;overflow:auto;\">\n",
        "<table border=\"1\" class=\"dataframe\">\n",
        "  <thead>\n",
        "    <tr style=\"text-align: right;\">\n",
        "      <th></th>\n",
        "      <th>apiStandardProfileRequest.headers._total</th>\n",
        "      <th>apiStandardProfileRequest.headers.values</th>\n",
        "      <th>apiStandardProfileRequest.url</th>\n",
        "      <th>firstName</th>\n",
        "      <th>headline</th>\n",
        "      <th>id</th>\n",
        "      <th>industry</th>\n",
        "      <th>lastName</th>\n",
        "      <th>location.country.code</th>\n",
        "      <th>location.name</th>\n",
        "      <th>pictureUrl</th>\n",
        "      <th>siteStandardProfileRequest.url</th>\n",
        "    </tr>\n",
        "  </thead>\n",
        "  <tbody>\n",
        "    <tr>\n",
        "      <th>0</th>\n",
        "      <td> 1</td>\n",
        "      <td> [{u'name': u'x-li-auth-token', u'value': u'nam...</td>\n",
        "      <td> https://api.linkedin.com/v1/people/FQUD0pygaW</td>\n",
        "      <td>      Ian</td>\n",
        "      <td>                                Editor, MetaboNews</td>\n",
        "      <td> FQUD0pygaW</td>\n",
        "      <td>                     Biotechnology</td>\n",
        "      <td> Forsythe</td>\n",
        "      <td> ca</td>\n",
        "      <td>    Edmonton, Canada Area</td>\n",
        "      <td> https://media.licdn.com/mpr/mprx/0_ndxXK8y9Fte...</td>\n",
        "      <td> https://www.linkedin.com/profile/view?id=67341...</td>\n",
        "    </tr>\n",
        "    <tr>\n",
        "      <th>1</th>\n",
        "      <td> 1</td>\n",
        "      <td> [{u'name': u'x-li-auth-token', u'value': u'nam...</td>\n",
        "      <td> https://api.linkedin.com/v1/people/KbJsqQGCqk</td>\n",
        "      <td> David E.</td>\n",
        "      <td> Product Manager, Founder, Community Evangelist...</td>\n",
        "      <td> KbJsqQGCqk</td>\n",
        "      <td>                          Internet</td>\n",
        "      <td>   Weekly</td>\n",
        "      <td> us</td>\n",
        "      <td>   San Francisco Bay Area</td>\n",
        "      <td> https://media.licdn.com/mpr/mprx/0_IyKoX7nFTo2...</td>\n",
        "      <td> https://www.linkedin.com/profile/view?id=2952&amp;...</td>\n",
        "    </tr>\n",
        "    <tr>\n",
        "      <th>2</th>\n",
        "      <td> 1</td>\n",
        "      <td> [{u'name': u'x-li-auth-token', u'value': u'nam...</td>\n",
        "      <td> https://api.linkedin.com/v1/people/DNiqdxcLjP</td>\n",
        "      <td>     Mike</td>\n",
        "      <td>    Global Partnerships at Baedal Minjok ( \ubc30\ub2ec\uc758\ubbfc\uc871 )</td>\n",
        "      <td> DNiqdxcLjP</td>\n",
        "      <td>                          Internet</td>\n",
        "      <td>      Kim</td>\n",
        "      <td> kr</td>\n",
        "      <td> Gangnam-gu, Seoul, Korea</td>\n",
        "      <td> https://media.licdn.com/mpr/mprx/0_x9J4Kt5SENk...</td>\n",
        "      <td> https://www.linkedin.com/profile/view?id=98466...</td>\n",
        "    </tr>\n",
        "    <tr>\n",
        "      <th>3</th>\n",
        "      <td> 1</td>\n",
        "      <td> [{u'name': u'x-li-auth-token', u'value': u'nam...</td>\n",
        "      <td> https://api.linkedin.com/v1/people/w6jb0km12v</td>\n",
        "      <td>     John</td>\n",
        "      <td>                        Co-founder and CEO at Zeal</td>\n",
        "      <td> w6jb0km12v</td>\n",
        "      <td>                 Computer Software</td>\n",
        "      <td>   Danner</td>\n",
        "      <td> us</td>\n",
        "      <td>   San Francisco Bay Area</td>\n",
        "      <td> https://media.licdn.com/mpr/mprx/0_QoM0Ad0kBKW...</td>\n",
        "      <td> https://www.linkedin.com/profile/view?id=56252...</td>\n",
        "    </tr>\n",
        "    <tr>\n",
        "      <th>4</th>\n",
        "      <td> 1</td>\n",
        "      <td> [{u'name': u'x-li-auth-token', u'value': u'nam...</td>\n",
        "      <td> https://api.linkedin.com/v1/people/hZfzvCWBMz</td>\n",
        "      <td>    Brian</td>\n",
        "      <td>              CEO and Founder of Relevant Learning</td>\n",
        "      <td> hZfzvCWBMz</td>\n",
        "      <td> Nonprofit Organization Management</td>\n",
        "      <td>   Kaplan</td>\n",
        "      <td> us</td>\n",
        "      <td>            United States</td>\n",
        "      <td> https://media.licdn.com/mpr/mprx/0_IcAN_ocYmOE...</td>\n",
        "      <td> https://www.linkedin.com/profile/view?id=28034...</td>\n",
        "    </tr>\n",
        "  </tbody>\n",
        "</table>\n",
        "</div>"
       ],
       "metadata": {},
       "output_type": "pyout",
       "prompt_number": 13,
       "text": [
        "   apiStandardProfileRequest.headers._total  \\\n",
        "0                                         1   \n",
        "1                                         1   \n",
        "2                                         1   \n",
        "3                                         1   \n",
        "4                                         1   \n",
        "\n",
        "            apiStandardProfileRequest.headers.values  \\\n",
        "0  [{u'name': u'x-li-auth-token', u'value': u'nam...   \n",
        "1  [{u'name': u'x-li-auth-token', u'value': u'nam...   \n",
        "2  [{u'name': u'x-li-auth-token', u'value': u'nam...   \n",
        "3  [{u'name': u'x-li-auth-token', u'value': u'nam...   \n",
        "4  [{u'name': u'x-li-auth-token', u'value': u'nam...   \n",
        "\n",
        "                   apiStandardProfileRequest.url firstName  \\\n",
        "0  https://api.linkedin.com/v1/people/FQUD0pygaW       Ian   \n",
        "1  https://api.linkedin.com/v1/people/KbJsqQGCqk  David E.   \n",
        "2  https://api.linkedin.com/v1/people/DNiqdxcLjP      Mike   \n",
        "3  https://api.linkedin.com/v1/people/w6jb0km12v      John   \n",
        "4  https://api.linkedin.com/v1/people/hZfzvCWBMz     Brian   \n",
        "\n",
        "                                            headline          id  \\\n",
        "0                                 Editor, MetaboNews  FQUD0pygaW   \n",
        "1  Product Manager, Founder, Community Evangelist...  KbJsqQGCqk   \n",
        "2     Global Partnerships at Baedal Minjok ( \ubc30\ub2ec\uc758\ubbfc\uc871 )  DNiqdxcLjP   \n",
        "3                         Co-founder and CEO at Zeal  w6jb0km12v   \n",
        "4               CEO and Founder of Relevant Learning  hZfzvCWBMz   \n",
        "\n",
        "                            industry  lastName location.country.code  \\\n",
        "0                      Biotechnology  Forsythe                    ca   \n",
        "1                           Internet    Weekly                    us   \n",
        "2                           Internet       Kim                    kr   \n",
        "3                  Computer Software    Danner                    us   \n",
        "4  Nonprofit Organization Management    Kaplan                    us   \n",
        "\n",
        "              location.name  \\\n",
        "0     Edmonton, Canada Area   \n",
        "1    San Francisco Bay Area   \n",
        "2  Gangnam-gu, Seoul, Korea   \n",
        "3    San Francisco Bay Area   \n",
        "4             United States   \n",
        "\n",
        "                                          pictureUrl  \\\n",
        "0  https://media.licdn.com/mpr/mprx/0_ndxXK8y9Fte...   \n",
        "1  https://media.licdn.com/mpr/mprx/0_IyKoX7nFTo2...   \n",
        "2  https://media.licdn.com/mpr/mprx/0_x9J4Kt5SENk...   \n",
        "3  https://media.licdn.com/mpr/mprx/0_QoM0Ad0kBKW...   \n",
        "4  https://media.licdn.com/mpr/mprx/0_IcAN_ocYmOE...   \n",
        "\n",
        "                      siteStandardProfileRequest.url  \n",
        "0  https://www.linkedin.com/profile/view?id=67341...  \n",
        "1  https://www.linkedin.com/profile/view?id=2952&...  \n",
        "2  https://www.linkedin.com/profile/view?id=98466...  \n",
        "3  https://www.linkedin.com/profile/view?id=56252...  \n",
        "4  https://www.linkedin.com/profile/view?id=28034...  "
       ]
      }
     ],
     "prompt_number": 13
    },
    {
     "cell_type": "code",
     "collapsed": false,
     "input": [
      "import plotly.plotly as py\n",
      "from plotly.graph_objs import *"
     ],
     "language": "python",
     "metadata": {},
     "outputs": [],
     "prompt_number": 15
    },
    {
     "cell_type": "code",
     "collapsed": false,
     "input": [
      "import plotly.tools as tls\n",
      "tls.set_credentials_file(\n",
      "        username=\"lchircus\", \n",
      "        api_key=\"4urjjs5ptp\")"
     ],
     "language": "python",
     "metadata": {},
     "outputs": [],
     "prompt_number": 17
    },
    {
     "cell_type": "code",
     "collapsed": false,
     "input": [
      "import numpy as np\n",
      "import matplotlib.pyplot as plt\n",
      "\n",
      "%pylab"
     ],
     "language": "python",
     "metadata": {},
     "outputs": [
      {
       "output_type": "stream",
       "stream": "stdout",
       "text": [
        "Using matplotlib backend: MacOSX\n",
        "Populating the interactive namespace from numpy and matplotlib\n"
       ]
      },
      {
       "output_type": "stream",
       "stream": "stderr",
       "text": [
        "WARNING: pylab import has clobbered these variables: ['Annotation', 'Figure']\n",
        "`%matplotlib` prevents importing * from pylab and numpy\n"
       ]
      }
     ],
     "prompt_number": 19
    },
    {
     "cell_type": "code",
     "collapsed": false,
     "input": [
      "def plot_pie_chart(x):\n",
      "    plt.pie(x, explode=len(x), labels=None,\n",
      "        colors=('b', 'g', 'r', 'c', 'm', 'y', 'k', 'w'),\n",
      "        autopct=None, pctdistance=0.6, shadow=False,\n",
      "        labeldistance=1.1, startangle=None, radius=None)"
     ],
     "language": "python",
     "metadata": {},
     "outputs": [],
     "prompt_number": 34
    },
    {
     "cell_type": "code",
     "collapsed": false,
     "input": [
      "aa = connections['industry'].value_counts()"
     ],
     "language": "python",
     "metadata": {},
     "outputs": [],
     "prompt_number": 35
    },
    {
     "cell_type": "code",
     "collapsed": false,
     "input": [
      "plot_pie_chart(np.array(aa))"
     ],
     "language": "python",
     "metadata": {},
     "outputs": [
      {
       "ename": "TypeError",
       "evalue": "object of type 'int' has no len()",
       "output_type": "pyerr",
       "traceback": [
        "\u001b[0;31m---------------------------------------------------------------------------\u001b[0m\n\u001b[0;31mTypeError\u001b[0m                                 Traceback (most recent call last)",
        "\u001b[0;32m<ipython-input-36-6b504f95a414>\u001b[0m in \u001b[0;36m<module>\u001b[0;34m()\u001b[0m\n\u001b[0;32m----> 1\u001b[0;31m \u001b[0mplot_pie_chart\u001b[0m\u001b[0;34m(\u001b[0m\u001b[0mnp\u001b[0m\u001b[0;34m.\u001b[0m\u001b[0marray\u001b[0m\u001b[0;34m(\u001b[0m\u001b[0maa\u001b[0m\u001b[0;34m)\u001b[0m\u001b[0;34m)\u001b[0m\u001b[0;34m\u001b[0m\u001b[0m\n\u001b[0m",
        "\u001b[0;32m<ipython-input-34-af5334392809>\u001b[0m in \u001b[0;36mplot_pie_chart\u001b[0;34m(x)\u001b[0m\n\u001b[1;32m      3\u001b[0m         \u001b[0mcolors\u001b[0m\u001b[0;34m=\u001b[0m\u001b[0;34m(\u001b[0m\u001b[0;34m'b'\u001b[0m\u001b[0;34m,\u001b[0m \u001b[0;34m'g'\u001b[0m\u001b[0;34m,\u001b[0m \u001b[0;34m'r'\u001b[0m\u001b[0;34m,\u001b[0m \u001b[0;34m'c'\u001b[0m\u001b[0;34m,\u001b[0m \u001b[0;34m'm'\u001b[0m\u001b[0;34m,\u001b[0m \u001b[0;34m'y'\u001b[0m\u001b[0;34m,\u001b[0m \u001b[0;34m'k'\u001b[0m\u001b[0;34m,\u001b[0m \u001b[0;34m'w'\u001b[0m\u001b[0;34m)\u001b[0m\u001b[0;34m,\u001b[0m\u001b[0;34m\u001b[0m\u001b[0m\n\u001b[1;32m      4\u001b[0m         \u001b[0mautopct\u001b[0m\u001b[0;34m=\u001b[0m\u001b[0mNone\u001b[0m\u001b[0;34m,\u001b[0m \u001b[0mpctdistance\u001b[0m\u001b[0;34m=\u001b[0m\u001b[0;36m0.6\u001b[0m\u001b[0;34m,\u001b[0m \u001b[0mshadow\u001b[0m\u001b[0;34m=\u001b[0m\u001b[0mFalse\u001b[0m\u001b[0;34m,\u001b[0m\u001b[0;34m\u001b[0m\u001b[0m\n\u001b[0;32m----> 5\u001b[0;31m         labeldistance=1.1, startangle=None, radius=None)\n\u001b[0m",
        "\u001b[0;32m/Users/Lauren/anaconda/lib/python2.7/site-packages/matplotlib/pyplot.pyc\u001b[0m in \u001b[0;36mpie\u001b[0;34m(x, explode, labels, colors, autopct, pctdistance, shadow, labeldistance, startangle, radius, hold)\u001b[0m\n\u001b[1;32m   2967\u001b[0m                      \u001b[0mautopct\u001b[0m\u001b[0;34m=\u001b[0m\u001b[0mautopct\u001b[0m\u001b[0;34m,\u001b[0m \u001b[0mpctdistance\u001b[0m\u001b[0;34m=\u001b[0m\u001b[0mpctdistance\u001b[0m\u001b[0;34m,\u001b[0m \u001b[0mshadow\u001b[0m\u001b[0;34m=\u001b[0m\u001b[0mshadow\u001b[0m\u001b[0;34m,\u001b[0m\u001b[0;34m\u001b[0m\u001b[0m\n\u001b[1;32m   2968\u001b[0m                      \u001b[0mlabeldistance\u001b[0m\u001b[0;34m=\u001b[0m\u001b[0mlabeldistance\u001b[0m\u001b[0;34m,\u001b[0m \u001b[0mstartangle\u001b[0m\u001b[0;34m=\u001b[0m\u001b[0mstartangle\u001b[0m\u001b[0;34m,\u001b[0m\u001b[0;34m\u001b[0m\u001b[0m\n\u001b[0;32m-> 2969\u001b[0;31m                      radius=radius)\n\u001b[0m\u001b[1;32m   2970\u001b[0m         \u001b[0mdraw_if_interactive\u001b[0m\u001b[0;34m(\u001b[0m\u001b[0;34m)\u001b[0m\u001b[0;34m\u001b[0m\u001b[0m\n\u001b[1;32m   2971\u001b[0m     \u001b[0;32mfinally\u001b[0m\u001b[0;34m:\u001b[0m\u001b[0;34m\u001b[0m\u001b[0m\n",
        "\u001b[0;32m/Users/Lauren/anaconda/lib/python2.7/site-packages/matplotlib/axes.pyc\u001b[0m in \u001b[0;36mpie\u001b[0;34m(self, x, explode, labels, colors, autopct, pctdistance, shadow, labeldistance, startangle, radius)\u001b[0m\n\u001b[1;32m   5400\u001b[0m             \u001b[0mexplode\u001b[0m \u001b[0;34m=\u001b[0m \u001b[0;34m[\u001b[0m\u001b[0;36m0\u001b[0m\u001b[0;34m]\u001b[0m \u001b[0;34m*\u001b[0m \u001b[0mlen\u001b[0m\u001b[0;34m(\u001b[0m\u001b[0mx\u001b[0m\u001b[0;34m)\u001b[0m\u001b[0;34m\u001b[0m\u001b[0m\n\u001b[1;32m   5401\u001b[0m         \u001b[0;32massert\u001b[0m\u001b[0;34m(\u001b[0m\u001b[0mlen\u001b[0m\u001b[0;34m(\u001b[0m\u001b[0mx\u001b[0m\u001b[0;34m)\u001b[0m \u001b[0;34m==\u001b[0m \u001b[0mlen\u001b[0m\u001b[0;34m(\u001b[0m\u001b[0mlabels\u001b[0m\u001b[0;34m)\u001b[0m\u001b[0;34m)\u001b[0m\u001b[0;34m\u001b[0m\u001b[0m\n\u001b[0;32m-> 5402\u001b[0;31m         \u001b[0;32massert\u001b[0m\u001b[0;34m(\u001b[0m\u001b[0mlen\u001b[0m\u001b[0;34m(\u001b[0m\u001b[0mx\u001b[0m\u001b[0;34m)\u001b[0m \u001b[0;34m==\u001b[0m \u001b[0mlen\u001b[0m\u001b[0;34m(\u001b[0m\u001b[0mexplode\u001b[0m\u001b[0;34m)\u001b[0m\u001b[0;34m)\u001b[0m\u001b[0;34m\u001b[0m\u001b[0m\n\u001b[0m\u001b[1;32m   5403\u001b[0m         \u001b[0;32mif\u001b[0m \u001b[0mcolors\u001b[0m \u001b[0;32mis\u001b[0m \u001b[0mNone\u001b[0m\u001b[0;34m:\u001b[0m\u001b[0;34m\u001b[0m\u001b[0m\n\u001b[1;32m   5404\u001b[0m             \u001b[0mcolors\u001b[0m \u001b[0;34m=\u001b[0m \u001b[0;34m(\u001b[0m\u001b[0;34m'b'\u001b[0m\u001b[0;34m,\u001b[0m \u001b[0;34m'g'\u001b[0m\u001b[0;34m,\u001b[0m \u001b[0;34m'r'\u001b[0m\u001b[0;34m,\u001b[0m \u001b[0;34m'c'\u001b[0m\u001b[0;34m,\u001b[0m \u001b[0;34m'm'\u001b[0m\u001b[0;34m,\u001b[0m \u001b[0;34m'y'\u001b[0m\u001b[0;34m,\u001b[0m \u001b[0;34m'k'\u001b[0m\u001b[0;34m,\u001b[0m \u001b[0;34m'w'\u001b[0m\u001b[0;34m)\u001b[0m\u001b[0;34m\u001b[0m\u001b[0m\n",
        "\u001b[0;31mTypeError\u001b[0m: object of type 'int' has no len()"
       ]
      }
     ],
     "prompt_number": 36
    },
    {
     "cell_type": "code",
     "collapsed": false,
     "input": [],
     "language": "python",
     "metadata": {},
     "outputs": []
    }
   ],
   "metadata": {}
  }
 ]
}